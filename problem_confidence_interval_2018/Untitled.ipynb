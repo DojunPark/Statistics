{
 "cells": [
  {
   "cell_type": "markdown",
   "metadata": {},
   "source": [
    "<div align=\"center\"><img src=\"img/2018-2.png\" width=\"70%\"></div>"
   ]
  },
  {
   "cell_type": "markdown",
   "metadata": {},
   "source": [
    "Since $X$ and $Y$ are independent,\n",
    "$$\\begin{array}{lll}\n",
    "&&X\\sim N\\left(82,6^2\\right),\\ Y\\sim N\\left(80,8^2\\right) \\\\\n",
    "&\\Rightarrow&\n",
    "X+Y\\sim N\\left(82+80,6^2+8^2\\right)\\\\\n",
    "&\\Rightarrow&\n",
    "T=\\frac{X+Y}{2}\\sim N\\left(\\frac{82+80}{2},\\frac{6^2+8^2}{2^2}\\right)\n",
    "=N\\left(81,5^2\\right)\n",
    "\\end{array}$$\n",
    "$$$$\n",
    "$$\\begin{array}{lll}\n",
    "P\\left(T\\ge 90\\right)\n",
    "&=&\n",
    "P\\left(T-81\\ge 90-81\\right)\\\\\n",
    "&=&\n",
    "P\\left(\\frac{T-81}{5}\\ge \\frac{90-81}{5}\\right)\\\\\n",
    "&=&\n",
    "P\\left(Z\\ge \\frac{9}{5}\\right)\n",
    "\\end{array}$$"
   ]
  },
  {
   "cell_type": "code",
   "execution_count": null,
   "metadata": {},
   "outputs": [],
   "source": []
  }
 ],
 "metadata": {
  "kernelspec": {
   "display_name": "Python 3",
   "language": "python",
   "name": "python3"
  },
  "language_info": {
   "codemirror_mode": {
    "name": "ipython",
    "version": 3
   },
   "file_extension": ".py",
   "mimetype": "text/x-python",
   "name": "python",
   "nbconvert_exporter": "python",
   "pygments_lexer": "ipython3",
   "version": "3.6.9"
  }
 },
 "nbformat": 4,
 "nbformat_minor": 2
}
