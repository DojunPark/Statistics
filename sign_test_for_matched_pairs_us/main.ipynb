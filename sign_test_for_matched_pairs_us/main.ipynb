{
 "cells": [
  {
   "cell_type": "markdown",
   "metadata": {},
   "source": [
    "[wiki](https://en.wikipedia.org/wiki/Sign_test)\n",
    "[Understandable_Statistics](https://www.youtube.com/watch?v=P40BhFAiIKg&list=PL4BztsgicSEeC4Oic6s5vW4LE-0YZTuo-&index=14&t=5s)"
   ]
  },
  {
   "cell_type": "markdown",
   "metadata": {},
   "source": [
    "<div align=\"center\"><img src=\"img/Screen Shot 2019-08-19 at 9.10.11 AM.png\" width=\"60%\" height=\"30%\"></div>\n",
    "\n",
    "[Understandable_Statistics](https://www.youtube.com/watch?v=P40BhFAiIKg&list=PL4BztsgicSEeC4Oic6s5vW4LE-0YZTuo-&index=14&t=5s)"
   ]
  },
  {
   "cell_type": "code",
   "execution_count": 1,
   "metadata": {},
   "outputs": [],
   "source": [
    "import numpy as np\n",
    "\n",
    "data = np.array([[93,76],\n",
    "                 [70,72],\n",
    "                 [81,75],\n",
    "                 [65,68],\n",
    "                 [79,65],\n",
    "                 [54,54],\n",
    "                 [94,88],\n",
    "                 [91,81],\n",
    "                 [77,65],\n",
    "                 [65,57],\n",
    "                 [95,86],\n",
    "                 [89,87],\n",
    "                 [78,78],\n",
    "                 [80,77],\n",
    "                 [76,76]])"
   ]
  },
  {
   "cell_type": "markdown",
   "metadata": {},
   "source": [
    "<div align=\"center\"><img src=\"img/Screen Shot 2019-08-19 at 9.10.33 AM.png\" width=\"80%\" height=\"30%\"></div>\n",
    "\n",
    "[Understandable_Statistics](https://www.youtube.com/watch?v=P40BhFAiIKg&list=PL4BztsgicSEeC4Oic6s5vW4LE-0YZTuo-&index=14&t=5s)"
   ]
  },
  {
   "cell_type": "code",
   "execution_count": 7,
   "metadata": {},
   "outputs": [
    {
     "name": "stdout",
     "output_type": "stream",
     "text": [
      "10\n",
      "12\n",
      "0.8333333333333334\n"
     ]
    }
   ],
   "source": [
    "# tie is not counted\n",
    "n_plus = np.sum((data[:,0] > data[:,1]).astype(np.int))\n",
    "n_minus = np.sum((data[:,0] < data[:,1]).astype(np.int))\n",
    "n = n_plus + n_minus\n",
    "r = n_plus / (n_plus + n_minus)\n",
    "print(n_plus)\n",
    "print(n)\n",
    "print(r)"
   ]
  },
  {
   "cell_type": "markdown",
   "metadata": {},
   "source": [
    "<div align=\"center\"><img src=\"img/Screen Shot 2019-08-19 at 9.11.12 AM.png\" width=\"80%\" height=\"30%\"></div>\n",
    "<div align=\"center\"><img src=\"img/Screen Shot 2019-08-19 at 9.11.43 AM.png\" width=\"80%\" height=\"30%\"></div>\n",
    "\n",
    "[Understandable_Statistics](https://www.youtube.com/watch?v=P40BhFAiIKg&list=PL4BztsgicSEeC4Oic6s5vW4LE-0YZTuo-&index=14&t=5s)"
   ]
  },
  {
   "cell_type": "code",
   "execution_count": 8,
   "metadata": {},
   "outputs": [],
   "source": [
    "p = 0.5\n",
    "q = 0.5"
   ]
  },
  {
   "cell_type": "markdown",
   "metadata": {},
   "source": [
    "<div align=\"center\"><img src=\"img/Screen Shot 2019-08-19 at 9.12.04 AM.png\" width=\"80%\" height=\"30%\"></div>\n",
    "\n",
    "[Understandable_Statistics](https://www.youtube.com/watch?v=P40BhFAiIKg&list=PL4BztsgicSEeC4Oic6s5vW4LE-0YZTuo-&index=14&t=5s)"
   ]
  },
  {
   "cell_type": "code",
   "execution_count": 9,
   "metadata": {},
   "outputs": [
    {
     "name": "stdout",
     "output_type": "stream",
     "text": [
      "2.3094010767585034\n",
      "0.010460667668896972\n"
     ]
    }
   ],
   "source": [
    "import scipy.stats as stats\n",
    "\n",
    "z = (r - p) / np.sqrt(p*q/n)\n",
    "p_value = 1 - stats.norm.cdf(z)\n",
    "print(z)\n",
    "print(p_value)"
   ]
  },
  {
   "cell_type": "code",
   "execution_count": null,
   "metadata": {},
   "outputs": [],
   "source": []
  }
 ],
 "metadata": {
  "kernelspec": {
   "display_name": "Python 3",
   "language": "python",
   "name": "python3"
  },
  "language_info": {
   "codemirror_mode": {
    "name": "ipython",
    "version": 3
   },
   "file_extension": ".py",
   "mimetype": "text/x-python",
   "name": "python",
   "nbconvert_exporter": "python",
   "pygments_lexer": "ipython3",
   "version": "3.7.3"
  }
 },
 "nbformat": 4,
 "nbformat_minor": 2
}
