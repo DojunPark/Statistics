{
 "cells": [
  {
   "cell_type": "markdown",
   "metadata": {},
   "source": [
    "[wiki](https://en.wikipedia.org/wiki/Normality_test)\n",
    "[Ben Lambert](https://www.youtube.com/watch?v=TyjYI7yjFZI)\n",
    "[Thomas_Haslwanter](https://github.com/thomas-haslwanter/statsintro_python)"
   ]
  },
  {
   "cell_type": "code",
   "execution_count": 37,
   "metadata": {},
   "outputs": [],
   "source": [
    "%matplotlib inline"
   ]
  },
  {
   "cell_type": "code",
   "execution_count": 38,
   "metadata": {},
   "outputs": [],
   "source": [
    "import numpy as np\n",
    "import matplotlib.pyplot as plt\n",
    "import scipy.stats as stats"
   ]
  },
  {
   "cell_type": "code",
   "execution_count": 83,
   "metadata": {},
   "outputs": [],
   "source": [
    "size = 1000\n",
    "mu = 5\n",
    "sigma = 2\n",
    "\n",
    "if 0:\n",
    "    x = stats.norm.rvs(loc=mu, scale=sigma, size=size)\n",
    "elif 0:\n",
    "    x = stats.t.rvs(3, loc=mu, scale=sigma, size=size)\n",
    "elif 1:\n",
    "    x = stats.uniform.rvs(size=size)"
   ]
  },
  {
   "cell_type": "markdown",
   "metadata": {},
   "source": [
    "# qqplot\n",
    "\n",
    "If the data lie on a line, they are pretty much normally distributed\n",
    "\n",
    "<div align=\"center\"><img src=\"img/Screen Shot 2019-08-14 at 11.00.02 AM.png\" width=\"100%\" height=\"30%\"></div>\n",
    "<div align=\"center\"><img src=\"img/Screen Shot 2019-08-14 at 11.00.41 AM.png\" width=\"100%\" height=\"30%\"></div>\n",
    "\n",
    "https://www.quora.com/In-laymans-terms-what-is-the-difference-between-a-P-P-plot-and-a-Q-Q-plot-and-when-would-we-use-one-or-the-other"
   ]
  },
  {
   "cell_type": "code",
   "execution_count": 84,
   "metadata": {},
   "outputs": [
    {
     "data": {
      "image/png": "[encoded data removed]",
      "text/plain": [
       "<Figure size 432x288 with 1 Axes>"
      ]
     },
     "metadata": {
      "needs_background": "light"
     },
     "output_type": "display_data"
    }
   ],
   "source": [
    "if 0:\n",
    "    # histogram\n",
    "    plt.hist(x, 20)\n",
    "    plt.show()\n",
    "elif 0:\n",
    "    # qqplot\n",
    "    # https://docs.scipy.org/doc/scipy/reference/generated/scipy.stats.probplot.html\n",
    "    _ = stats.probplot(x, plot=plt)\n",
    "elif 1:\n",
    "    # qqplot\n",
    "    # http://www.statsmodels.org/devel/graphics.html#goodness-of-fit-plots\n",
    "    # http://www.statsmodels.org/devel/generated/statsmodels.graphics.gofplots.qqplot.html#statsmodels.graphics.gofplots.qqplot\n",
    "    from statsmodels.graphics.gofplots import qqplot\n",
    "    _ = qqplot(x, line='r')"
   ]
  },
  {
   "cell_type": "markdown",
   "metadata": {},
   "source": [
    "# Jarque–Bera test\n",
    "\n",
    "<div align=\"center\"><img src=\"img/Screen Shot 2019-08-14 at 11.53.52 AM.png\" width=\"100%\" height=\"30%\"></div>\n",
    "\n",
    "https://en.wikipedia.org/wiki/Jarque%E2%80%93Bera_test"
   ]
  },
  {
   "cell_type": "code",
   "execution_count": 85,
   "metadata": {},
   "outputs": [
    {
     "name": "stdout",
     "output_type": "stream",
     "text": [
      "0.000944711735204733\n"
     ]
    }
   ],
   "source": [
    "if 0:\n",
    "    # Jarque-Bera goodness of fit test\n",
    "    # https://docs.scipy.org/doc/scipy/reference/generated/scipy.stats.jarque_bera.html\n",
    "    _, p = stats.jarque_bera(x)\n",
    "elif 0:\n",
    "    # https://docs.scipy.org/doc/scipy/reference/generated/scipy.stats.normaltest.html\n",
    "    # This function tests the null hypothesis that a sample comes from a normal distribution. It is based on D’Agostino and Pearson’s [1], [2] test \n",
    "    # that combines skew and kurtosis to produce an omnibus test of normality.\n",
    "    _, p = stats.normaltest(x)\n",
    "elif 0:\n",
    "    # Shapiro-Wilk test\n",
    "    # https://docs.scipy.org/doc/scipy-0.19.1/reference/generated/scipy.stats.shapiro.html\n",
    "    _, p = stats.shapiro(x)    \n",
    "elif 1:\n",
    "    # Kolmogorov-Smirnov test (only advisable for large sample numbers!)\n",
    "    # https://docs.scipy.org/doc/scipy-0.14.0/reference/generated/scipy.stats.kstest.html\n",
    "    x_ = (x-np.mean(x))/np.std(x)\n",
    "    _, p = stats.kstest(x_, 'norm')\n",
    "\n",
    "print(p)"
   ]
  },
  {
   "cell_type": "code",
   "execution_count": null,
   "metadata": {},
   "outputs": [],
   "source": []
  }
 ],
 "metadata": {
  "kernelspec": {
   "display_name": "Python 3",
   "language": "python",
   "name": "python3"
  },
  "language_info": {
   "codemirror_mode": {
    "name": "ipython",
    "version": 3
   },
   "file_extension": ".py",
   "mimetype": "text/x-python",
   "name": "python",
   "nbconvert_exporter": "python",
   "pygments_lexer": "ipython3",
   "version": "3.7.3"
  }
 },
 "nbformat": 4,
 "nbformat_minor": 2
}
