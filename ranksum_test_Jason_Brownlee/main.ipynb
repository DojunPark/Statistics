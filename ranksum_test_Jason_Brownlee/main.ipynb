{
 "cells": [
  {
   "cell_type": "markdown",
   "metadata": {},
   "source": [
    "[Jason_Brownlee](https://machinelearningmastery.com/nonparametric-statistical-significance-tests-in-python/)\n",
    "[Understandable_Statistics](https://www.youtube.com/watch?v=0nVqVidaZW0&list=PL4BztsgicSEeC4Oic6s5vW4LE-0YZTuo-&index=14)"
   ]
  },
  {
   "cell_type": "code",
   "execution_count": 20,
   "metadata": {},
   "outputs": [
    {
     "name": "stdout",
     "output_type": "stream",
     "text": [
      "24.11999999999989 5.786401281175036e-06\n"
     ]
    }
   ],
   "source": [
    "import numpy as np\n",
    "import scipy.stats as stats\n",
    "np.random.seed(0)\n",
    "data1 = 20 * np.random.standard_t(3, size=(200,)) + 50\n",
    "data2 = 20 * np.random.standard_t(3, size=(200,)) + 55\n",
    "data3 = 20 * np.random.standard_t(3, size=(200,)) + 60\n",
    "#stat, p = stats.wilcoxon(data1, data2)\n",
    "#stat, p = stats.ranksums(data1, data2)\n",
    "#stat, p = stats.mannwhitneyu(data1, data2)\n",
    "#stat, p = stats.kruskal(data1, data2, data3)\n",
    "stat, p = stats.friedmanchisquare(data1, data2, data3)\n",
    "print(stat, p)"
   ]
  },
  {
   "cell_type": "code",
   "execution_count": 4,
   "metadata": {},
   "outputs": [
    {
     "name": "stdout",
     "output_type": "stream",
     "text": [
      "-3.728611441754435 0.00019253775998478114\n"
     ]
    }
   ],
   "source": [
    "import numpy as np\n",
    "import scipy.stats as stats\n",
    "data1 = 5 * np.random.standard_t(3, size=(100,)) + 50\n",
    "data2 = 5 * np.random.standard_t(3, size=(100,)) + 55\n",
    "data3 = 5 * np.random.standard_t(3, size=(100,)) + 60\n",
    "# stat, p = stats.wilcoxon(data1, data2)\n",
    "stat, p = stats.ranksums(data1, data2)\n",
    "# stat, p = stats.mannwhitneyu(data1, data2)\n",
    "# stat, p = stats.kruskal(data1, data2, data3)\n",
    "# stat, p = stats.friedmanchisquare(data1, data2, data3)\n",
    "print(stat, p)"
   ]
  },
  {
   "cell_type": "code",
   "execution_count": 5,
   "metadata": {},
   "outputs": [
    {
     "name": "stdout",
     "output_type": "stream",
     "text": [
      "2603.0 2.3767196619531978e-09\n"
     ]
    }
   ],
   "source": [
    "import numpy as np\n",
    "import scipy.stats as stats\n",
    "data1 = 5 * np.random.standard_t(3, size=(100,)) + 50\n",
    "data2 = 5 * np.random.standard_t(3, size=(100,)) + 55\n",
    "data3 = 5 * np.random.standard_t(3, size=(100,)) + 60\n",
    "# stat, p = stats.wilcoxon(data1, data2)\n",
    "# stat, p = stats.ranksums(data1, data2)\n",
    "stat, p = stats.mannwhitneyu(data1, data2)\n",
    "# stat, p = stats.kruskal(data1, data2, data3)\n",
    "# stat, p = stats.friedmanchisquare(data1, data2, data3)\n",
    "print(stat, p)"
   ]
  },
  {
   "cell_type": "code",
   "execution_count": 6,
   "metadata": {},
   "outputs": [
    {
     "name": "stdout",
     "output_type": "stream",
     "text": [
      "94.56485581395373 2.9208043652521984e-21\n"
     ]
    }
   ],
   "source": [
    "import numpy as np\n",
    "import scipy.stats as stats\n",
    "data1 = 5 * np.random.standard_t(3, size=(100,)) + 50\n",
    "data2 = 5 * np.random.standard_t(3, size=(100,)) + 55\n",
    "data3 = 5 * np.random.standard_t(3, size=(100,)) + 60\n",
    "# stat, p = stats.wilcoxon(data1, data2)\n",
    "# stat, p = stats.ranksums(data1, data2)\n",
    "# stat, p = stats.mannwhitneyu(data1, data2)\n",
    "stat, p = stats.kruskal(data1, data2, data3)\n",
    "# stat, p = stats.friedmanchisquare(data1, data2, data3)\n",
    "print(stat, p)"
   ]
  },
  {
   "cell_type": "code",
   "execution_count": 7,
   "metadata": {},
   "outputs": [
    {
     "name": "stdout",
     "output_type": "stream",
     "text": [
      "65.03999999999996 7.529106641832876e-15\n"
     ]
    }
   ],
   "source": [
    "import numpy as np\n",
    "import scipy.stats as stats\n",
    "data1 = 5 * np.random.standard_t(3, size=(100,)) + 50\n",
    "data2 = 5 * np.random.standard_t(3, size=(100,)) + 55\n",
    "data3 = 5 * np.random.standard_t(3, size=(100,)) + 60\n",
    "# stat, p = stats.wilcoxon(data1, data2)\n",
    "# stat, p = stats.ranksums(data1, data2)\n",
    "# stat, p = stats.mannwhitneyu(data1, data2)\n",
    "# stat, p = stats.kruskal(data1, data2, data3)\n",
    "stat, p = stats.friedmanchisquare(data1, data2, data3)\n",
    "print(stat, p)"
   ]
  },
  {
   "cell_type": "code",
   "execution_count": 12,
   "metadata": {},
   "outputs": [
    {
     "name": "stdout",
     "output_type": "stream",
     "text": [
      "Statistics=32.0, p=0.01961422519376942\n",
      "Different distributions (reject H0)\n"
     ]
    }
   ],
   "source": [
    "import numpy as np\n",
    "import pandas as pd\n",
    "import scipy.stats as stats\n",
    "\n",
    "np.random.seed(1)\n",
    "\n",
    "if 0:\n",
    "    data1 = 5 * np.random.randn(100) + 50\n",
    "    data2 = 5 * np.random.randn(100) + 51\n",
    "    data3 = 5 * np.random.randn(100) + 53\n",
    "elif 1:\n",
    "    data = {\n",
    "    'Time': [41,56,64,42,50,70,44,57,63,65,52,66,43,72,62,55,80,74,75,77,78,47,60],\n",
    "    'Group': ['A']*11 + ['B']*12\n",
    "    }\n",
    "    df = pd.DataFrame(data)\n",
    "    g = df.groupby('Group')\n",
    "    for key, value in g:\n",
    "        if key == 'A':\n",
    "            data1 = value['Time']\n",
    "        if key == 'B':\n",
    "            data2 = value['Time']\n",
    "\n",
    "if 1:\n",
    "    stat, p = stats.mannwhitneyu(data1, data2)\n",
    "elif 1:\n",
    "    # https://stats.stackexchange.com/questions/235243/when-should-i-use-scipy-stats-wilcoxon-instead-of-scipy-stats-ranksums\n",
    "    # Frank Wilcoxon's 1945 paper [1] described two tests\n",
    "    # Unpaired Experiments - Wilcoxon rank sum test\n",
    "    # Paired Comparisons - Wilcoxon signed-rank test\n",
    "    # https://docs.scipy.org/doc/scipy/reference/generated/scipy.stats.ranksums.html\n",
    "    # Compute the Wilcoxon rank-sum statistic for two samples.\n",
    "    # The Wilcoxon rank-sum test tests \n",
    "    # the null hypothesis that two sets of measurements are drawn from the same distribution. \n",
    "    # The alternative hypothesis is that values in one sample are more likely to be larger than the values in the other sample.\n",
    "    # This test should be used to compare two samples from continuous distributions. \n",
    "    # It does not handle ties between measurements in x and y. \n",
    "    # For tie-handling and an optional continuity correction see scipy.stats.mannwhitneyu.\n",
    "    stat, p = stats.ranksums(data1, data2)\n",
    "elif 1:\n",
    "    # https://stats.stackexchange.com/questions/235243/when-should-i-use-scipy-stats-wilcoxon-instead-of-scipy-stats-ranksums\n",
    "    # Frank Wilcoxon's 1945 paper [1] described two tests\n",
    "    # Unpaired Experiments - Wilcoxon rank sum test\n",
    "    # Paired Comparisons - Wilcoxon signed-rank test\n",
    "    stat, p = stats.wilcoxon(data1, data2)\n",
    "elif 1:\n",
    "    stat, p = stats.kruskal(data1, data2, data3)\n",
    "elif 1:\n",
    "    stat, p = stats.friedmanchisquare(data1, data2, data3)\n",
    "print('Statistics={}, p={}'.format(stat, p))\n",
    "\n",
    "alpha = 0.05\n",
    "if p > alpha:\n",
    "    print('Same distributions (fail to reject H0)')\n",
    "else:\n",
    "    print('Different distributions (reject H0)')"
   ]
  },
  {
   "cell_type": "markdown",
   "metadata": {},
   "source": [
    "<div align=\"center\"><img src=\"img/Screen Shot 2019-08-19 at 9.39.55 AM.png\" width=\"60%\" height=\"30%\"></div>\n",
    "\n",
    "[Understandable_Statistics](https://www.youtube.com/watch?v=0nVqVidaZW0&list=PL4BztsgicSEeC4Oic6s5vW4LE-0YZTuo-&index=14)"
   ]
  },
  {
   "cell_type": "code",
   "execution_count": 1,
   "metadata": {},
   "outputs": [
    {
     "name": "stdout",
     "output_type": "stream",
     "text": [
      "    Time Group\n",
      "0     41     A\n",
      "1     56     A\n",
      "2     64     A\n",
      "3     42     A\n",
      "4     50     A\n",
      "5     70     A\n",
      "6     44     A\n",
      "7     57     A\n",
      "8     63     A\n",
      "9     65     A\n",
      "10    52     A\n",
      "11    66     B\n",
      "12    43     B\n",
      "13    72     B\n",
      "14    62     B\n",
      "15    55     B\n",
      "16    80     B\n",
      "17    74     B\n",
      "18    75     B\n",
      "19    77     B\n",
      "20    78     B\n",
      "21    47     B\n",
      "22    60     B\n"
     ]
    }
   ],
   "source": [
    "import pandas as pd\n",
    "\n",
    "data = {\n",
    "    'Time': [41,56,64,42,50,70,44,57,63,65,52,66,43,72,62,55,80,74,75,77,78,47,60],\n",
    "    'Group': ['A']*11 + ['B']*12\n",
    "    }\n",
    "\n",
    "df = pd.DataFrame(data)\n",
    "print(df)"
   ]
  },
  {
   "cell_type": "markdown",
   "metadata": {},
   "source": [
    "<div align=\"center\"><img src=\"img/Screen Shot 2019-08-19 at 9.40.15 AM.png\" width=\"60%\" height=\"30%\"></div>\n",
    "\n",
    "[Understandable_Statistics](https://www.youtube.com/watch?v=0nVqVidaZW0&list=PL4BztsgicSEeC4Oic6s5vW4LE-0YZTuo-&index=14)"
   ]
  },
  {
   "cell_type": "code",
   "execution_count": 2,
   "metadata": {},
   "outputs": [
    {
     "name": "stdout",
     "output_type": "stream",
     "text": [
      "       Time Group  Rank\n",
      "index                  \n",
      "0        41     A     1\n",
      "3        42     A     2\n",
      "12       43     B     3\n",
      "6        44     A     4\n",
      "21       47     B     5\n",
      "4        50     A     6\n",
      "10       52     A     7\n",
      "15       55     B     8\n",
      "1        56     A     9\n",
      "7        57     A    10\n",
      "22       60     B    11\n",
      "14       62     B    12\n",
      "8        63     A    13\n",
      "2        64     A    14\n",
      "9        65     A    15\n",
      "11       66     B    16\n",
      "5        70     A    17\n",
      "13       72     B    18\n",
      "17       74     B    19\n",
      "18       75     B    20\n",
      "19       77     B    21\n",
      "20       78     B    22\n",
      "16       80     B    23\n"
     ]
    }
   ],
   "source": [
    "df = df.sort_values('Time').reset_index(drop=False)\n",
    "df['Rank'] = df.index + 1\n",
    "df = df.set_index('index')\n",
    "print(df)"
   ]
  },
  {
   "cell_type": "markdown",
   "metadata": {},
   "source": [
    "$$\\begin{array}{lll}\n",
    "n_1&&\\mbox{number of samples in small group}\\\\\n",
    "n_2&&\\mbox{number of samples in large group}\\\\\n",
    "R&&\\mbox{rank sum of samples in small group}\\\\\n",
    "\\end{array}$$\n",
    "$$$$"
   ]
  },
  {
   "cell_type": "code",
   "execution_count": 3,
   "metadata": {},
   "outputs": [
    {
     "name": "stdout",
     "output_type": "stream",
     "text": [
      "11 12 98\n"
     ]
    }
   ],
   "source": [
    "import numpy as np\n",
    "\n",
    "g = df.groupby('Group')\n",
    "for key, value in g:\n",
    "    if key == 'A':\n",
    "        n1 = value.shape[0]\n",
    "        R = np.sum(value['Rank'])\n",
    "    if key == 'B':\n",
    "        n2 = value.shape[0]\n",
    "print(n1, n2, R)"
   ]
  },
  {
   "cell_type": "markdown",
   "metadata": {},
   "source": [
    "<div align=\"center\"><img src=\"img/Screen Shot 2019-08-19 at 9.58.17 AM.png\" width=\"80%\" height=\"30%\"></div>\n",
    "\n",
    "[Understandable_Statistics](https://www.youtube.com/watch?v=0nVqVidaZW0&list=PL4BztsgicSEeC4Oic6s5vW4LE-0YZTuo-&index=14)"
   ]
  },
  {
   "cell_type": "code",
   "execution_count": 4,
   "metadata": {},
   "outputs": [
    {
     "name": "stdout",
     "output_type": "stream",
     "text": [
      "132.0 16.24807680927192\n"
     ]
    }
   ],
   "source": [
    "import numpy as np\n",
    "mu = n1*(n1+n2+1)/2\n",
    "sigma = np.sqrt(n1*n2*(n1+n2+1)/12)\n",
    "print(mu, sigma)"
   ]
  },
  {
   "cell_type": "markdown",
   "metadata": {},
   "source": [
    "<div align=\"center\"><img src=\"img/Screen Shot 2019-08-19 at 9.42.39 AM.png\" width=\"60%\" height=\"30%\"></div>\n",
    "\n",
    "[Understandable_Statistics](https://www.youtube.com/watch?v=0nVqVidaZW0&list=PL4BztsgicSEeC4Oic6s5vW4LE-0YZTuo-&index=14)\n",
    "\n",
    "<div align=\"center\"><img src=\"img/Screen Shot 2019-08-19 at 9.42.52 AM.png\" width=\"60%\" height=\"30%\"></div>\n",
    "\n",
    "[Understandable_Statistics](https://www.youtube.com/watch?v=0nVqVidaZW0&list=PL4BztsgicSEeC4Oic6s5vW4LE-0YZTuo-&index=14)"
   ]
  },
  {
   "cell_type": "code",
   "execution_count": 11,
   "metadata": {},
   "outputs": [
    {
     "name": "stdout",
     "output_type": "stream",
     "text": [
      "-2.0925553466486564\n",
      "0.018194433100354263\n"
     ]
    }
   ],
   "source": [
    "import scipy.stats as stats\n",
    "\n",
    "z = (R - mu) / sigma\n",
    "print(z)\n",
    "\n",
    "if 0:\n",
    "    # two-sided test (default of scipy.stats.ranksum)\n",
    "    p_value = 2*stats.norm.cdf(-np.abs(z))\n",
    "elif 1:\n",
    "    # one-sided test\n",
    "    p_value = stats.norm.cdf(z)\n",
    "    \n",
    "print(p_value)"
   ]
  },
  {
   "cell_type": "markdown",
   "metadata": {},
   "source": [
    "<div align=\"center\"><img src=\"img/Screen Shot 2019-08-20 at 4.14.54 AM.png\" width=\"100%\" height=\"30%\"></div>\n",
    "\n",
    "[scipy](https://docs.scipy.org/doc/scipy/reference/generated/scipy.stats.ranksums.html)"
   ]
  },
  {
   "cell_type": "code",
   "execution_count": null,
   "metadata": {},
   "outputs": [],
   "source": []
  }
 ],
 "metadata": {
  "kernelspec": {
   "display_name": "Python 3",
   "language": "python",
   "name": "python3"
  },
  "language_info": {
   "codemirror_mode": {
    "name": "ipython",
    "version": 3
   },
   "file_extension": ".py",
   "mimetype": "text/x-python",
   "name": "python",
   "nbconvert_exporter": "python",
   "pygments_lexer": "ipython3",
   "version": "3.6.9"
  }
 },
 "nbformat": 4,
 "nbformat_minor": 2
}
