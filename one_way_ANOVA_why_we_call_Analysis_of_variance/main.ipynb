{
 "cells": [
  {
   "cell_type": "markdown",
   "metadata": {},
   "source": [
    "[wiki](https://en.wikipedia.org/wiki/One-way_analysis_of_variance)\n",
    "Erik_Marsja [youtube](https://www.youtube.com/watch?time_continue=146&v=Lp2aV_4LF48) [blog](https://www.marsja.se/four-ways-to-conduct-one-way-anovas-using-python/)\n",
    "[Understandable_Statistics](https://www.youtube.com/watch?v=0XsovsSnRuw&list=PL4BztsgicSEeC4Oic6s5vW4LE-0YZTuo-&index=21)"
   ]
  },
  {
   "cell_type": "markdown",
   "metadata": {},
   "source": [
    "<div align=\"center\"><img src=\"img/Screen Shot 2019-08-14 at 10.56.08 PM.png\" width=\"100%\" height=\"30%\"></div>\n",
    "\n",
    "https://en.wikipedia.org/wiki/One-way_analysis_of_variance"
   ]
  },
  {
   "cell_type": "code",
   "execution_count": 2,
   "metadata": {},
   "outputs": [],
   "source": [
    "%matplotlib inline"
   ]
  },
  {
   "cell_type": "code",
   "execution_count": 3,
   "metadata": {},
   "outputs": [
    {
     "data": {
      "text/plain": [
       "<matplotlib.axes._subplots.AxesSubplot at 0x7fdfa87e6828>"
      ]
     },
     "execution_count": 3,
     "metadata": {},
     "output_type": "execute_result"
    },
    {
     "data": {
      "image/png": "[encoded data removed]",
      "text/plain": [
       "<Figure size 576x360 with 1 Axes>"
      ]
     },
     "metadata": {
      "needs_background": "light"
     },
     "output_type": "display_data"
    }
   ],
   "source": [
    "import pandas as pd\n",
    "import numpy as np\n",
    "\n",
    "if 1:\n",
    "    # original data\n",
    "    df = pd.read_csv(\"data/PlantGrowth.csv\", usecols=[1,2])\n",
    "elif 1:\n",
    "    # original data + lots of noise\n",
    "    df = pd.read_csv(\"data/PlantGrowth.csv\", usecols=[1,2])\n",
    "    np.random.seed = 1\n",
    "    noise_level = 0.3\n",
    "    noise = noise_level*np.random.normal(size=(int(df.shape[0]/3),3))\n",
    "    noise = noise - np.mean(noise, axis=0)\n",
    "    noise = noise.reshape(-1, order='F')\n",
    "    df.weight = df.weight + noise\n",
    "    \n",
    "df.boxplot('weight', by='group', figsize=(8, 5))"
   ]
  },
  {
   "cell_type": "code",
   "execution_count": 4,
   "metadata": {},
   "outputs": [
    {
     "name": "stdout",
     "output_type": "stream",
     "text": [
      "            df    sum_sq   mean_sq         F   PR(>F)\n",
      "C(group)   2.0   3.76634  1.883170  4.846088  0.01591\n",
      "Residual  27.0  10.49209  0.388596       NaN      NaN\n"
     ]
    }
   ],
   "source": [
    "from statsmodels.formula.api import ols\n",
    "from statsmodels.stats.anova import anova_lm\n",
    "\n",
    "# the \"C\" indicates categorical data\n",
    "model = ols('weight ~ C(group)', df).fit()\n",
    "print(anova_lm(model))"
   ]
  },
  {
   "cell_type": "markdown",
   "metadata": {},
   "source": [
    "<div align=\"center\"><img src=\"img/Screen Shot 2019-08-15 at 2.21.10 PM.png\" width=\"60%\" height=\"30%\"></div>\n",
    "\n",
    "[Understandable_Statistics](https://www.youtube.com/watch?v=6TJ7wu3TpUM&list=PL4BztsgicSEeC4Oic6s5vW4LE-0YZTuo-&index=12)"
   ]
  },
  {
   "cell_type": "code",
   "execution_count": 4,
   "metadata": {},
   "outputs": [
    {
     "name": "stdout",
     "output_type": "stream",
     "text": [
      "ctrl\n",
      "       weight group\n",
      "0   37.782877  ctrl\n",
      "1 -139.240679  ctrl\n",
      "2  139.986803  ctrl\n",
      "3   77.496301  ctrl\n",
      "4 -197.694794  ctrl\n",
      "5  -25.948347  ctrl\n",
      "6   63.254508  ctrl\n",
      "7  179.499888  ctrl\n",
      "8 -215.321768  ctrl\n",
      "9  -23.850089  ctrl\n",
      "trt1\n",
      "        weight group\n",
      "10   80.368584  trt1\n",
      "11  -40.614796  trt1\n",
      "12   19.156640  trt1\n",
      "13 -175.638665  trt1\n",
      "14 -202.153446  trt1\n",
      "15   22.761629  trt1\n",
      "16   95.431042  trt1\n",
      "17  155.684795  trt1\n",
      "18 -101.007845  trt1\n",
      "19    4.906532  trt1\n",
      "trt2\n",
      "        weight group\n",
      "20   42.763683  trt2\n",
      "21  -81.109475  trt2\n",
      "22  162.538939  trt2\n",
      "23 -127.334797  trt2\n",
      "24 -116.124402  trt2\n",
      "25  -35.415448  trt2\n",
      "26   37.195352  trt2\n",
      "27  -65.556910  trt2\n",
      "28  -57.081299  trt2\n",
      "29  133.779703  trt2\n"
     ]
    }
   ],
   "source": [
    "import numpy as np\n",
    "\n",
    "g = df.groupby(['group'])\n",
    "for key, value in g:\n",
    "    print(key)\n",
    "    print(value)"
   ]
  },
  {
   "cell_type": "markdown",
   "metadata": {},
   "source": [
    "<div align=\"center\"><img src=\"img/Screen Shot 2019-08-15 at 2.21.26 PM.png\" width=\"80%\" height=\"30%\"></div>\n",
    "\n",
    "[Understandable_Statistics](https://www.youtube.com/watch?v=6TJ7wu3TpUM&list=PL4BztsgicSEeC4Oic6s5vW4LE-0YZTuo-&index=12)"
   ]
  },
  {
   "cell_type": "code",
   "execution_count": 5,
   "metadata": {},
   "outputs": [
    {
     "name": "stdout",
     "output_type": "stream",
     "text": [
      "              0\n",
      "ctrl -10.403530\n",
      "trt1 -14.110553\n",
      "trt2 -10.634465\n",
      "                      0\n",
      "ctrl         -10.403530\n",
      "trt1         -14.110553\n",
      "trt2         -10.634465\n",
      "Overall_Mean -11.716183\n"
     ]
    }
   ],
   "source": [
    "import numpy as np\n",
    "\n",
    "g = df.groupby(['group'])\n",
    "df_mean = pd.DataFrame(np.zeros((3,1)), index=['ctrl','trt1','trt2'])\n",
    "for key, value in g:\n",
    "    df_mean.loc[key] = value.weight.mean() \n",
    "print(df_mean)\n",
    "\n",
    "mean_table = df_mean.copy()\n",
    "mean_table.loc['Overall_Mean',:] = df_mean.mean()\n",
    "print(mean_table)"
   ]
  },
  {
   "cell_type": "markdown",
   "metadata": {},
   "source": [
    "<div align=\"center\"><img src=\"img/Screen Shot 2019-08-15 at 4.18.23 PM.png\" width=\"80%\" height=\"30%\"></div>\n",
    "\n",
    "[Understandable_Statistics](https://www.youtube.com/watch?v=6TJ7wu3TpUM&list=PL4BztsgicSEeC4Oic6s5vW4LE-0YZTuo-&index=12)\n",
    "\n",
    "<div align=\"center\"><img src=\"img/Screen Shot 2019-08-15 at 4.19.01 PM.png\" width=\"100%\" height=\"30%\"></div>\n",
    "\n",
    "[Understandable_Statistics](https://www.youtube.com/watch?v=6TJ7wu3TpUM&list=PL4BztsgicSEeC4Oic6s5vW4LE-0YZTuo-&index=12)"
   ]
  },
  {
   "cell_type": "code",
   "execution_count": 6,
   "metadata": {},
   "outputs": [
    {
     "name": "stdout",
     "output_type": "stream",
     "text": [
      "SS_total : 382105.9554753016\n",
      "SS_treatment : 86.26178529295709\n",
      "SS_error : 382019.69369000866\n"
     ]
    }
   ],
   "source": [
    "global_mean = df.weight.mean()\n",
    "SS_total = np.sum((df.weight - global_mean)**2)\n",
    "print('SS_total : {}'.format(SS_total))\n",
    "\n",
    "SS_group = np.sum(np.sum((df_mean - global_mean)**2)) * (df.shape[0]/3)\n",
    "print('SS_treatment : {}'.format(SS_group))\n",
    "\n",
    "SS_error = SS_total - SS_group\n",
    "print('SS_error : {}'.format(SS_error))"
   ]
  },
  {
   "cell_type": "markdown",
   "metadata": {},
   "source": [
    "<div align=\"center\"><img src=\"img/Screen Shot 2019-08-15 at 2.26.15 PM.png\" width=\"80%\" height=\"30%\"></div>\n",
    "\n",
    "[Understandable_Statistics](https://www.youtube.com/watch?v=6TJ7wu3TpUM&list=PL4BztsgicSEeC4Oic6s5vW4LE-0YZTuo-&index=12)"
   ]
  },
  {
   "cell_type": "code",
   "execution_count": 7,
   "metadata": {},
   "outputs": [],
   "source": [
    "DF_group = 3-1\n",
    "DF_total = df.shape[0] - 1\n",
    "DF_error = DF_total - DF_group"
   ]
  },
  {
   "cell_type": "markdown",
   "metadata": {},
   "source": [
    "<div align=\"center\"><img src=\"img/Screen Shot 2019-08-15 at 4.23.01 PM.png\" width=\"80%\" height=\"30%\"></div>\n",
    "\n",
    "[Understandable_Statistics](https://www.youtube.com/watch?v=6TJ7wu3TpUM&list=PL4BztsgicSEeC4Oic6s5vW4LE-0YZTuo-&index=12)"
   ]
  },
  {
   "cell_type": "code",
   "execution_count": 8,
   "metadata": {},
   "outputs": [],
   "source": [
    "MS_group = SS_group / DF_group\n",
    "MS_error = SS_error / DF_error"
   ]
  },
  {
   "cell_type": "markdown",
   "metadata": {},
   "source": [
    "<div align=\"center\"><img src=\"img/Screen Shot 2019-08-15 at 2.27.12 PM.png\" width=\"80%\" height=\"30%\"></div>\n",
    "\n",
    "[Understandable_Statistics](https://www.youtube.com/watch?v=6TJ7wu3TpUM&list=PL4BztsgicSEeC4Oic6s5vW4LE-0YZTuo-&index=12)"
   ]
  },
  {
   "cell_type": "code",
   "execution_count": 9,
   "metadata": {},
   "outputs": [
    {
     "name": "stdout",
     "output_type": "stream",
     "text": [
      "0.003048361434475905\n",
      "0.996956623169494\n"
     ]
    }
   ],
   "source": [
    "import scipy.stats as stats\n",
    "\n",
    "F_group = MS_group / MS_error \n",
    "print(F_group)\n",
    "\n",
    "p_value_group = 1 - stats.f.cdf(F_group, DF_group, DF_error)  \n",
    "print(p_value_group)"
   ]
  },
  {
   "cell_type": "code",
   "execution_count": null,
   "metadata": {},
   "outputs": [],
   "source": []
  }
 ],
 "metadata": {
  "kernelspec": {
   "display_name": "Python 3",
   "language": "python",
   "name": "python3"
  },
  "language_info": {
   "codemirror_mode": {
    "name": "ipython",
    "version": 3
   },
   "file_extension": ".py",
   "mimetype": "text/x-python",
   "name": "python",
   "nbconvert_exporter": "python",
   "pygments_lexer": "ipython3",
   "version": "3.6.9"
  }
 },
 "nbformat": 4,
 "nbformat_minor": 2
}
