{
 "cells": [
  {
   "cell_type": "code",
   "execution_count": null,
   "metadata": {},
   "outputs": [],
   "source": [
    "%matplotlib inline\n",
    "import numpy as np\n",
    "import scipy.stats as stats\n",
    "import matplotlib.pyplot as plt\n",
    "\n",
    "prob = 0.975\n",
    "\n",
    "if 0:\n",
    "    a = stats.norm()\n",
    "    z = a.ppf(prob)\n",
    "    cdf_value = a.cdf(z)\n",
    "elif 1:\n",
    "    df = 10\n",
    "    a = stats.chi2(df)\n",
    "    z = a.ppf(prob)\n",
    "    cdf_value = a.cdf(z)\n",
    "    x = np.linspace(0,40,100)\n",
    "    y = a.pdf(x)\n",
    "\n",
    "print(z)\n",
    "print(cdf_value)\n",
    "\n",
    "plt.plot(x, y, color='b')\n",
    "plt.plot(x, np.zeros_like(x), color='b')\n",
    "plt.plot([z,z], [0,a.pdf(z)])\n",
    "plt.show()"
   ]
  }
 ],
 "metadata": {
  "kernelspec": {
   "display_name": "Python 3",
   "language": "python",
   "name": "python3"
  },
  "language_info": {
   "codemirror_mode": {
    "name": "ipython",
    "version": 3
   },
   "file_extension": ".py",
   "mimetype": "text/x-python",
   "name": "python",
   "nbconvert_exporter": "python",
   "pygments_lexer": "ipython3",
   "version": "3.6.9"
  }
 },
 "nbformat": 4,
 "nbformat_minor": 2
}
