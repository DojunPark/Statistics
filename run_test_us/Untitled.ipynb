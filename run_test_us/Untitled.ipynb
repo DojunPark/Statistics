{
 "cells": [
  {
   "cell_type": "markdown",
   "metadata": {},
   "source": [
    "[statsmodels](https://www.statsmodels.org/stable/generated/statsmodels.sandbox.stats.runs.runstest_1samp.html)"
   ]
  },
  {
   "cell_type": "markdown",
   "metadata": {},
   "source": [
    "<div align=\"center\"><img src=\"img/Screen Shot 2019-08-20 at 4.37.12 AM.png\" width=\"100%\" height=\"30%\"></div>\n",
    "\n",
    "[Understandable_Statistics](https://www.youtube.com/watch?v=9YLgBwMQoMI&list=PL4BztsgicSEeC4Oic6s5vW4LE-0YZTuo-&index=17&t=4s)\n",
    "\n",
    "<div align=\"center\"><img src=\"img/Screen Shot 2019-08-20 at 4.37.29 AM.png\" width=\"60%\" height=\"30%\"></div>\n",
    "\n",
    "[Understandable_Statistics](https://www.youtube.com/watch?v=9YLgBwMQoMI&list=PL4BztsgicSEeC4Oic6s5vW4LE-0YZTuo-&index=17&t=4s)\n",
    "\n",
    "<div align=\"center\"><img src=\"img/Screen Shot 2019-08-20 at 4.37.39 AM.png\" width=\"60%\" height=\"30%\"></div>\n",
    "\n",
    "[Understandable_Statistics](https://www.youtube.com/watch?v=9YLgBwMQoMI&list=PL4BztsgicSEeC4Oic6s5vW4LE-0YZTuo-&index=17&t=4s)"
   ]
  },
  {
   "cell_type": "code",
   "execution_count": 16,
   "metadata": {},
   "outputs": [
    {
     "name": "stdout",
     "output_type": "stream",
     "text": [
      "2.2549119015770693 0.024138859126727696\n"
     ]
    }
   ],
   "source": [
    "import numpy as np\n",
    "import statsmodels.sandbox.stats.runs as runs\n",
    "\n",
    "if 0:\n",
    "    x = np.array([1,1,0,0,0,1,0,0,1,1,1,0,0,0,1,1,0,0,0,1,1])\n",
    "elif 0:\n",
    "    x = np.array([1,1,1,1,1,1,0,0,0,0,0,1,1,0,0,0,1,1,0,0,0])\n",
    "elif 1:\n",
    "    x = np.array([1,0,1,0,1,0,1,0,1,0,1,0,1,0,0,1,0,0,0,1,1])\n",
    "    \n",
    "z_stat, p_value = runs.runstest_1samp(x)\n",
    "print(z_stat, p_value)"
   ]
  },
  {
   "cell_type": "code",
   "execution_count": null,
   "metadata": {},
   "outputs": [],
   "source": []
  }
 ],
 "metadata": {
  "kernelspec": {
   "display_name": "Python 3",
   "language": "python",
   "name": "python3"
  },
  "language_info": {
   "codemirror_mode": {
    "name": "ipython",
    "version": 3
   },
   "file_extension": ".py",
   "mimetype": "text/x-python",
   "name": "python",
   "nbconvert_exporter": "python",
   "pygments_lexer": "ipython3",
   "version": "3.7.3"
  }
 },
 "nbformat": 4,
 "nbformat_minor": 2
}
