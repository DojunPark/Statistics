{
 "cells": [
  {
   "cell_type": "markdown",
   "metadata": {},
   "source": [
    "<div align=\"center\"><img src=\"img/2014-1.png\" width=\"70%\"></div>"
   ]
  },
  {
   "cell_type": "markdown",
   "metadata": {},
   "source": [
    "Since the sample size 400 is small compared to the city population,\n",
    "less than 10% in fact, \n",
    "the number of telecom company A users in the sample can be approximated as an binomial distribution $B(n,p)$ with $n=400$ and $p=0.2$.\n",
    "$$\n",
    "X\\sim B(n,p)\n",
    "\\quad\\Rightarrow\\quad\n",
    "\\frac{X-np}{\\sqrt{np(1-p)}}\\approx Z\n",
    "$$\n",
    "$$$$\n",
    "$$\\begin{array}{lll}\n",
    "P\\left(80\\le X\\le 92\\right)\n",
    "&=&\n",
    "P\\left(80-80\\le X-80\\le 92-80\\right)\\\\\n",
    "&=&\n",
    "P\\left(\\frac{80-80}{8}\\le \\frac{X-80}{8}\\le \\frac{92-80}{8}\\right)\\\\\n",
    "&\\approx&\n",
    "P\\left(\\frac{80-80}{8}\\le Z\\le \\frac{92-80}{8}\\right)\\\\\n",
    "&=&\n",
    "P\\left(0\\le Z\\le 1.5\\right)\\\\\n",
    "\\end{array}$$"
   ]
  },
  {
   "cell_type": "code",
   "execution_count": null,
   "metadata": {},
   "outputs": [],
   "source": []
  }
 ],
 "metadata": {
  "kernelspec": {
   "display_name": "Python 3",
   "language": "python",
   "name": "python3"
  },
  "language_info": {
   "codemirror_mode": {
    "name": "ipython",
    "version": 3
   },
   "file_extension": ".py",
   "mimetype": "text/x-python",
   "name": "python",
   "nbconvert_exporter": "python",
   "pygments_lexer": "ipython3",
   "version": "3.6.9"
  }
 },
 "nbformat": 4,
 "nbformat_minor": 2
}
