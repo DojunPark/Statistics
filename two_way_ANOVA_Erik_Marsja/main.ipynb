{
 "cells": [
  {
   "cell_type": "markdown",
   "metadata": {},
   "source": [
    "Erik_Marsja [youtube](https://www.youtube.com/watch?time_continue=146&v=Lp2aV_4LF48) [blog](https://www.marsja.se/three-ways-to-carry-out-2-way-anova-with-python/)\n",
    "[wiki](https://en.wikipedia.org/wiki/Two-way_analysis_of_variance)\n",
    "[Understandable_Statistics](https://www.youtube.com/watch?v=6TJ7wu3TpUM&list=PL4BztsgicSEeC4Oic6s5vW4LE-0YZTuo-&index=12)\n",
    "[statisticsfun](https://www.youtube.com/playlist?list=PLWtoq-EhUJe2TjJYfZUQtuq7a0dQCnOWp)"
   ]
  },
  {
   "cell_type": "code",
   "execution_count": 1,
   "metadata": {},
   "outputs": [],
   "source": [
    "%matplotlib inline"
   ]
  },
  {
   "cell_type": "code",
   "execution_count": 2,
   "metadata": {},
   "outputs": [
    {
     "data": {
      "image/png": "[encoded data removed]",
      "text/plain": [
       "<Figure size 432x288 with 1 Axes>"
      ]
     },
     "metadata": {
      "needs_background": "light"
     },
     "output_type": "display_data"
    }
   ],
   "source": [
    "import pandas as pd\n",
    "from statsmodels.graphics.factorplots import interaction_plot\n",
    "\n",
    "df = pd.read_csv(\"data/ToothGrowth.csv\", usecols=[1,2,3])\n",
    "# print(df.head())\n",
    "# print(df.shape) # (60, 3)\n",
    "fig = interaction_plot(df.dose, df.supp, df.len,\n",
    "                       colors=['red','blue'], markers=['D','^'], ms=10)"
   ]
  },
  {
   "cell_type": "code",
   "execution_count": 3,
   "metadata": {},
   "outputs": [
    {
     "name": "stdout",
     "output_type": "stream",
     "text": [
      "                   df       sum_sq      mean_sq          F        PR(>F)\n",
      "C(supp)           1.0   205.350000   205.350000  15.571979  2.311828e-04\n",
      "C(dose)           2.0  2426.434333  1213.217167  91.999965  4.046291e-18\n",
      "C(supp):C(dose)   2.0   108.319000    54.159500   4.106991  2.186027e-02\n",
      "Residual         54.0   712.106000    13.187148        NaN           NaN\n"
     ]
    }
   ],
   "source": [
    "from statsmodels.formula.api import ols\n",
    "from statsmodels.stats.anova import anova_lm\n",
    "\n",
    "# the \"C\" indicates categorical data\n",
    "model = ols('len ~ C(supp) + C(dose) + C(supp):C(dose)', df).fit()\n",
    "print(anova_lm(model))"
   ]
  },
  {
   "cell_type": "markdown",
   "metadata": {},
   "source": [
    "<div align=\"center\"><img src=\"img/Screen Shot 2019-08-15 at 2.21.10 PM.png\" width=\"60%\" height=\"30%\"></div>\n",
    "\n",
    "[Understandable_Statistics](https://www.youtube.com/watch?v=6TJ7wu3TpUM&list=PL4BztsgicSEeC4Oic6s5vW4LE-0YZTuo-&index=12)"
   ]
  },
  {
   "cell_type": "code",
   "execution_count": 4,
   "metadata": {},
   "outputs": [
    {
     "name": "stdout",
     "output_type": "stream",
     "text": [
      "('OJ', 0.5)\n",
      "     len supp  dose\n",
      "30  15.2   OJ   0.5\n",
      "31  21.5   OJ   0.5\n",
      "32  17.6   OJ   0.5\n",
      "33   9.7   OJ   0.5\n",
      "34  14.5   OJ   0.5\n",
      "35  10.0   OJ   0.5\n",
      "36   8.2   OJ   0.5\n",
      "37   9.4   OJ   0.5\n",
      "38  16.5   OJ   0.5\n",
      "39   9.7   OJ   0.5\n",
      "('OJ', 1.0)\n",
      "     len supp  dose\n",
      "40  19.7   OJ   1.0\n",
      "41  23.3   OJ   1.0\n",
      "42  23.6   OJ   1.0\n",
      "43  26.4   OJ   1.0\n",
      "44  20.0   OJ   1.0\n",
      "45  25.2   OJ   1.0\n",
      "46  25.8   OJ   1.0\n",
      "47  21.2   OJ   1.0\n",
      "48  14.5   OJ   1.0\n",
      "49  27.3   OJ   1.0\n",
      "('OJ', 2.0)\n",
      "     len supp  dose\n",
      "50  25.5   OJ   2.0\n",
      "51  26.4   OJ   2.0\n",
      "52  22.4   OJ   2.0\n",
      "53  24.5   OJ   2.0\n",
      "54  24.8   OJ   2.0\n",
      "55  30.9   OJ   2.0\n",
      "56  26.4   OJ   2.0\n",
      "57  27.3   OJ   2.0\n",
      "58  29.4   OJ   2.0\n",
      "59  23.0   OJ   2.0\n",
      "('VC', 0.5)\n",
      "    len supp  dose\n",
      "0   4.2   VC   0.5\n",
      "1  11.5   VC   0.5\n",
      "2   7.3   VC   0.5\n",
      "3   5.8   VC   0.5\n",
      "4   6.4   VC   0.5\n",
      "5  10.0   VC   0.5\n",
      "6  11.2   VC   0.5\n",
      "7  11.2   VC   0.5\n",
      "8   5.2   VC   0.5\n",
      "9   7.0   VC   0.5\n",
      "('VC', 1.0)\n",
      "     len supp  dose\n",
      "10  16.5   VC   1.0\n",
      "11  16.5   VC   1.0\n",
      "12  15.2   VC   1.0\n",
      "13  17.3   VC   1.0\n",
      "14  22.5   VC   1.0\n",
      "15  17.3   VC   1.0\n",
      "16  13.6   VC   1.0\n",
      "17  14.5   VC   1.0\n",
      "18  18.8   VC   1.0\n",
      "19  15.5   VC   1.0\n",
      "('VC', 2.0)\n",
      "     len supp  dose\n",
      "20  23.6   VC   2.0\n",
      "21  18.5   VC   2.0\n",
      "22  33.9   VC   2.0\n",
      "23  25.5   VC   2.0\n",
      "24  26.4   VC   2.0\n",
      "25  32.5   VC   2.0\n",
      "26  26.7   VC   2.0\n",
      "27  21.5   VC   2.0\n",
      "28  23.3   VC   2.0\n",
      "29  29.5   VC   2.0\n"
     ]
    }
   ],
   "source": [
    "import numpy as np\n",
    "\n",
    "g = df.groupby(['supp','dose'])\n",
    "for key, value in g:\n",
    "    print(key)\n",
    "    print(value)"
   ]
  },
  {
   "cell_type": "markdown",
   "metadata": {},
   "source": [
    "<div align=\"center\"><img src=\"img/Screen Shot 2019-08-15 at 2.21.26 PM.png\" width=\"80%\" height=\"30%\"></div>\n",
    "\n",
    "[Understandable_Statistics](https://www.youtube.com/watch?v=6TJ7wu3TpUM&list=PL4BztsgicSEeC4Oic6s5vW4LE-0YZTuo-&index=12)"
   ]
  },
  {
   "cell_type": "code",
   "execution_count": 5,
   "metadata": {},
   "outputs": [
    {
     "name": "stdout",
     "output_type": "stream",
     "text": [
      "      0.5    1.0    2.0\n",
      "OJ  13.23  22.70  26.06\n",
      "VC   7.98  16.77  26.14\n",
      "                 0.5     1.0    2.0  Row_Means\n",
      "OJ            13.230  22.700  26.06  20.663333\n",
      "VC             7.980  16.770  26.14  16.963333\n",
      "Column_Means  10.605  19.735  26.10  18.813333\n"
     ]
    }
   ],
   "source": [
    "import numpy as np\n",
    "\n",
    "g = df.groupby(['supp','dose'])\n",
    "df_mean = pd.DataFrame(np.zeros((2,3)), index=['OJ','VC'])\n",
    "df_mean.columns = [0.5,1.0,2.0]\n",
    "for key, value in g:\n",
    "    df_mean.loc[key[0],key[1]] = value.len.mean() \n",
    "print(df_mean)\n",
    "\n",
    "mean_table = df_mean.copy()\n",
    "mean_table.loc['Column_Means',:] = df_mean.mean()\n",
    "mean_table.loc[:,'Row_Means'] = df_mean.mean(axis=1)\n",
    "mean_table.iloc[-1,-1] = df.len.mean()\n",
    "print(mean_table)"
   ]
  },
  {
   "cell_type": "markdown",
   "metadata": {},
   "source": [
    "<div align=\"center\"><img src=\"img/Screen Shot 2019-08-15 at 4.18.23 PM.png\" width=\"80%\" height=\"30%\"></div>\n",
    "\n",
    "[Understandable_Statistics](https://www.youtube.com/watch?v=6TJ7wu3TpUM&list=PL4BztsgicSEeC4Oic6s5vW4LE-0YZTuo-&index=12)"
   ]
  },
  {
   "cell_type": "code",
   "execution_count": 6,
   "metadata": {},
   "outputs": [
    {
     "name": "stdout",
     "output_type": "stream",
     "text": [
      "SS_total : 3452.2093333333337\n",
      "SS_treatment : 2740.1033333333326\n",
      "SS_error : 712.1060000000011\n"
     ]
    }
   ],
   "source": [
    "global_mean = df.len.mean()\n",
    "SS_total = np.sum((df.len - global_mean)**2)\n",
    "print('SS_total : {}'.format(SS_total))\n",
    "\n",
    "SS_treatment = np.sum(np.sum((df_mean - global_mean)**2)) * (df.shape[0]/6)\n",
    "print('SS_treatment : {}'.format(SS_treatment))\n",
    "\n",
    "SS_error = SS_total - SS_treatment\n",
    "print('SS_error : {}'.format(SS_error))"
   ]
  },
  {
   "cell_type": "markdown",
   "metadata": {},
   "source": [
    "<div align=\"center\"><img src=\"img/Screen Shot 2019-08-15 at 4.19.01 PM.png\" width=\"100%\" height=\"30%\"></div>\n",
    "\n",
    "[Understandable_Statistics](https://www.youtube.com/watch?v=6TJ7wu3TpUM&list=PL4BztsgicSEeC4Oic6s5vW4LE-0YZTuo-&index=12)"
   ]
  },
  {
   "cell_type": "code",
   "execution_count": 7,
   "metadata": {},
   "outputs": [
    {
     "name": "stdout",
     "output_type": "stream",
     "text": [
      "SS_supp : 205.3499999999999\n",
      "SS_dose : 2426.4343333333336\n",
      "SS_interaction : 108.31899999999905\n"
     ]
    }
   ],
   "source": [
    "SS_supp = np.sum((mean_table.iloc[:-1,-1]-global_mean)**2) * ((df.shape[0]/6) * 3)\n",
    "SS_dose = np.sum((mean_table.iloc[-1,:-1]-global_mean)**2) * ((df.shape[0]/6) * 2)\n",
    "SS_interaction = SS_treatment - SS_supp - SS_dose  \n",
    "print('SS_supp : {}'.format(SS_supp))\n",
    "print('SS_dose : {}'.format(SS_dose))\n",
    "print('SS_interaction : {}'.format(SS_interaction))"
   ]
  },
  {
   "cell_type": "markdown",
   "metadata": {},
   "source": [
    "<div align=\"center\"><img src=\"img/Screen Shot 2019-08-15 at 2.26.15 PM.png\" width=\"80%\" height=\"30%\"></div>\n",
    "\n",
    "[Understandable_Statistics](https://www.youtube.com/watch?v=6TJ7wu3TpUM&list=PL4BztsgicSEeC4Oic6s5vW4LE-0YZTuo-&index=12)"
   ]
  },
  {
   "cell_type": "code",
   "execution_count": 8,
   "metadata": {},
   "outputs": [],
   "source": [
    "DF_supp = 2-1\n",
    "DF_dose = 3-1\n",
    "DF_interaction = (2-1)*(3-1) \n",
    "DF_total = df.shape[0] - 1\n",
    "DF_error = DF_total - DF_supp - DF_dose - DF_interaction "
   ]
  },
  {
   "cell_type": "markdown",
   "metadata": {},
   "source": [
    "<div align=\"center\"><img src=\"img/Screen Shot 2019-08-15 at 4.23.01 PM.png\" width=\"80%\" height=\"30%\"></div>\n",
    "\n",
    "[Understandable_Statistics](https://www.youtube.com/watch?v=6TJ7wu3TpUM&list=PL4BztsgicSEeC4Oic6s5vW4LE-0YZTuo-&index=12)"
   ]
  },
  {
   "cell_type": "code",
   "execution_count": 9,
   "metadata": {},
   "outputs": [],
   "source": [
    "MS_supp = SS_supp / DF_supp\n",
    "MS_dose = SS_dose / DF_dose\n",
    "MS_interaction = SS_interaction / DF_interaction \n",
    "MS_error = SS_error / DF_error"
   ]
  },
  {
   "cell_type": "markdown",
   "metadata": {},
   "source": [
    "<div align=\"center\"><img src=\"img/Screen Shot 2019-08-15 at 2.27.12 PM.png\" width=\"80%\" height=\"30%\"></div>\n",
    "\n",
    "[Understandable_Statistics](https://www.youtube.com/watch?v=6TJ7wu3TpUM&list=PL4BztsgicSEeC4Oic6s5vW4LE-0YZTuo-&index=12)"
   ]
  },
  {
   "cell_type": "code",
   "execution_count": 10,
   "metadata": {},
   "outputs": [
    {
     "name": "stdout",
     "output_type": "stream",
     "text": [
      "15.571979452497208 91.99996489286693 4.106991094022477\n",
      "0.00023118280977341144 1.1102230246251565e-16 0.021860268964791763\n"
     ]
    }
   ],
   "source": [
    "import scipy.stats as stats\n",
    "\n",
    "F_supp = MS_supp / MS_error \n",
    "F_dose = MS_dose / MS_error\n",
    "F_interaction = MS_interaction / MS_error \n",
    "print(F_supp, F_dose, F_interaction)\n",
    "\n",
    "p_value_supp = 1 - stats.f.cdf(F_supp, DF_supp, DF_error) \n",
    "p_value_dose = 1 - stats.f.cdf(F_dose, DF_dose, DF_error) \n",
    "p_value_interaction = 1 - stats.f.cdf(F_interaction, DF_interaction, DF_error) \n",
    "print(p_value_supp, p_value_dose, p_value_interaction)"
   ]
  }
 ],
 "metadata": {
  "kernelspec": {
   "display_name": "Python 3",
   "language": "python",
   "name": "python3"
  },
  "language_info": {
   "codemirror_mode": {
    "name": "ipython",
    "version": 3
   },
   "file_extension": ".py",
   "mimetype": "text/x-python",
   "name": "python",
   "nbconvert_exporter": "python",
   "pygments_lexer": "ipython3",
   "version": "3.7.3"
  }
 },
 "nbformat": 4,
 "nbformat_minor": 2
}
