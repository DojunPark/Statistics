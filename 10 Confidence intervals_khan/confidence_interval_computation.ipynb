{
 "cells": [
  {
   "cell_type": "code",
   "execution_count": 5,
   "metadata": {},
   "outputs": [
    {
     "name": "stdout",
     "output_type": "stream",
     "text": [
      "[671.13085949 728.86914051]\n",
      "28.869140505722296\n"
     ]
    }
   ],
   "source": [
    "import scipy.stats as stats\n",
    "import numpy as np\n",
    "\n",
    "a = stats.t\n",
    "n = 14\n",
    "df = n-1\n",
    "t_star = a.ppf(0.975, df)\n",
    "\n",
    "x_bar = 700\n",
    "s = 50\n",
    "ci_95 = np.array([x_bar-t_star*s/np.sqrt(n), x_bar+t_star*s/np.sqrt(n)])\n",
    "print(ci_95)\n",
    "print(t_star*s/np.sqrt(n))"
   ]
  },
  {
   "cell_type": "code",
   "execution_count": null,
   "metadata": {},
   "outputs": [],
   "source": []
  }
 ],
 "metadata": {
  "kernelspec": {
   "display_name": "Python 3",
   "language": "python",
   "name": "python3"
  },
  "language_info": {
   "codemirror_mode": {
    "name": "ipython",
    "version": 3
   },
   "file_extension": ".py",
   "mimetype": "text/x-python",
   "name": "python",
   "nbconvert_exporter": "python",
   "pygments_lexer": "ipython3",
   "version": "3.7.3"
  }
 },
 "nbformat": 4,
 "nbformat_minor": 2
}
