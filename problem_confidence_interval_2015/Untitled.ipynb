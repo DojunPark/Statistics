{
 "cells": [
  {
   "cell_type": "markdown",
   "metadata": {},
   "source": [
    "<div align=\"center\"><img src=\"img/2015-2.png\" width=\"70%\"></div>"
   ]
  },
  {
   "cell_type": "markdown",
   "metadata": {},
   "source": [
    "Since $X$ and $\\alpha$ are independent,\n",
    "$$\\begin{array}{lll}\n",
    "&&X\\sim N\\left(175,5^2\\right),\\ \\alpha\\sim N\\left(0,\\left(2\\sqrt{3}\\right)^2\\right) \\\\\n",
    "&\\Rightarrow&\n",
    "\\frac{2}{5}X\\sim N\\left(\\frac{2}{5}*175,\\left(\\frac{2}{5}\\right)^2*5^2\\right),\\ \\alpha\\sim N\\left(0,\\left(2\\sqrt{3}\\right)^2\\right)\\\\\n",
    "&\\Rightarrow&\n",
    "Y=\\frac{2}{5}X+\\alpha\\sim N\\left(70,4^2\\right)\n",
    "\\end{array}$$\n",
    "$$$$\n",
    "$$\\begin{array}{lll}\n",
    "P\\left(Y\\ge 72\\right)\n",
    "&=&\n",
    "P\\left(Y-70\\ge 72-70\\right)\\\\\n",
    "&=&\n",
    "P\\left(\\frac{Y-70}{4}\\ge \\frac{72-70}{4}\\right)\\\\\n",
    "&=&\n",
    "P\\left(Z\\ge 0.5\\right)\n",
    "\\end{array}$$"
   ]
  },
  {
   "cell_type": "code",
   "execution_count": null,
   "metadata": {},
   "outputs": [],
   "source": []
  }
 ],
 "metadata": {
  "kernelspec": {
   "display_name": "Python 3",
   "language": "python",
   "name": "python3"
  },
  "language_info": {
   "codemirror_mode": {
    "name": "ipython",
    "version": 3
   },
   "file_extension": ".py",
   "mimetype": "text/x-python",
   "name": "python",
   "nbconvert_exporter": "python",
   "pygments_lexer": "ipython3",
   "version": "3.6.9"
  }
 },
 "nbformat": 4,
 "nbformat_minor": 2
}
