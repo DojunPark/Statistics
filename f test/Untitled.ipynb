{
 "cells": [
  {
   "cell_type": "markdown",
   "metadata": {},
   "source": [
    "$$\n",
    "\\chi^2_{n-1}=\\frac{(n-1)S^2}{\\sigma^2}\n",
    "\\quad\\Rightarrow\\quad\n",
    "\\frac{\\chi^2_{n-1}}{n-1}=\\frac{S^2}{\\sigma^2}\n",
    "$$\n",
    "\n",
    "$$\n",
    "F_{d_1,d_2}:=\\frac{\\frac{\\chi^2_{d_1}}{d_1}}{\\frac{\\chi^2_{d_2}}{d_2}}=\\frac{\\frac{S_1^2}{\\sigma_1^2}}{\\frac{S_2^2}{\\sigma_2^2}}=\\frac{S_1^2}{S_2^2}\\quad\\mbox{if $\\sigma_1=\\sigma_2$}\n",
    "$$"
   ]
  },
  {
   "cell_type": "markdown",
   "metadata": {},
   "source": [
    "$$\n",
    "H_0:\\sigma_1=\\sigma_2\\quad \\mbox{vs}\\quad H_1: \\sigma_1\\neq\\sigma_2\n",
    "$$\n",
    "$$$$\n",
    "$$\n",
    "H_0:\\sigma_1=\\sigma_2\\quad \\mbox{vs}\\quad H_1: \\sigma_1>\\sigma_2\n",
    "$$\n",
    "$$$$\n",
    "$$\n",
    "H_0:\\sigma_1=\\sigma_2\\quad \\mbox{vs}\\quad H_1: \\sigma_1<\\sigma_2\n",
    "$$"
   ]
  },
  {
   "cell_type": "code",
   "execution_count": 4,
   "metadata": {},
   "outputs": [
    {
     "name": "stdout",
     "output_type": "stream",
     "text": [
      "0.2384473197781886 4.193798449612402 0.04406725028791889\n"
     ]
    }
   ],
   "source": [
    "# two-tail test\n",
    "import numpy as np\n",
    "import scipy.stats as stats\n",
    "\n",
    "a = [1, 2, 1, 2, 1, 2, 5, 2, 1, 2]\n",
    "b = [1, 3, -1, 2, 1, 5, -1, 6, -1, 2]\n",
    "\n",
    "S_square_a = np.var(a, ddof=1)\n",
    "S_square_b = np.var(b, ddof=1)\n",
    "\n",
    "f_statistic = S_square_a / S_square_b \n",
    "F = stats.f(len(a)-1, len(b)-1) \n",
    "p_value = 2*min(F.cdf(f_statistic), F.sf(f_statistic))\n",
    "f_statistic_ = F.ppf(1-(p_value/2))\n",
    "print(f_statistic, f_statistic_, p_value)"
   ]
  },
  {
   "cell_type": "code",
   "execution_count": 5,
   "metadata": {},
   "outputs": [
    {
     "name": "stdout",
     "output_type": "stream",
     "text": [
      "0.2384473197781886 0.022033625143959446\n"
     ]
    }
   ],
   "source": [
    "# one-tail test\n",
    "# critical region is on left\n",
    "import numpy as np\n",
    "import scipy.stats as stats\n",
    "\n",
    "a = [1, 2, 1, 2, 1, 2, 5, 2, 1, 2]\n",
    "b = [1, 3, -1, 2, 1, 5, -1, 6, -1, 2]\n",
    "\n",
    "S_square_a = np.var(a, ddof=1)\n",
    "S_square_b = np.var(b, ddof=1)\n",
    "\n",
    "f_statistic = S_square_a / S_square_b \n",
    "F = stats.f(len(a)-1, len(b)-1) \n",
    "p_value = F.cdf(f_statistic)\n",
    "print(f_statistic, p_value)"
   ]
  },
  {
   "cell_type": "code",
   "execution_count": 6,
   "metadata": {},
   "outputs": [
    {
     "name": "stdout",
     "output_type": "stream",
     "text": [
      "0.2384473197781886 0.9779663748560405\n"
     ]
    }
   ],
   "source": [
    "# one-tail test\n",
    "# critical region is on right\n",
    "import numpy as np\n",
    "import scipy.stats as stats\n",
    "\n",
    "a = [1, 2, 1, 2, 1, 2, 5, 2, 1, 2]\n",
    "b = [1, 3, -1, 2, 1, 5, -1, 6, -1, 2]\n",
    "\n",
    "S_square_a = np.var(a, ddof=1)\n",
    "S_square_b = np.var(b, ddof=1)\n",
    "\n",
    "f_statistic = S_square_a / S_square_b \n",
    "F = stats.f(len(a)-1, len(b)-1) \n",
    "p_value = F.sf(f_statistic)\n",
    "print(f_statistic, p_value)"
   ]
  },
  {
   "cell_type": "code",
   "execution_count": 22,
   "metadata": {},
   "outputs": [
    {
     "name": "stdout",
     "output_type": "stream",
     "text": [
      "4.890566037735849 0.040179382091355416\n"
     ]
    }
   ],
   "source": [
    "# Levene's test\n",
    "import numpy as np\n",
    "import scipy.stats as stats\n",
    "\n",
    "a = [1, 2, 1, 2, 1, 2, 5, 2, 1, 2]\n",
    "b = [1, 3, -1, 2, 1, 5, -1, 6, -1, 2]\n",
    "\n",
    "f_statistic, p_value = stats.levene(a, b)\n",
    "print(f_statistic, p_value)"
   ]
  },
  {
   "cell_type": "code",
   "execution_count": 19,
   "metadata": {},
   "outputs": [
    {
     "name": "stdout",
     "output_type": "stream",
     "text": [
      "0.2384473197781886 4.193798449612402 0.04406725028791889\n"
     ]
    },
    {
     "data": {
      "image/png": "[encoded data removed]",
      "text/plain": [
       "<Figure size 432x288 with 1 Axes>"
      ]
     },
     "metadata": {
      "needs_background": "light"
     },
     "output_type": "display_data"
    }
   ],
   "source": [
    "%matplotlib inline\n",
    "import numpy as np\n",
    "import matplotlib.pyplot as plt\n",
    "import scipy.stats as stats\n",
    "\n",
    "a = [1, 2, 1, 2, 1, 2, 5, 2, 1, 2]\n",
    "b = [1, 3, -1, 2, 1, 5, -1, 6, -1, 2]\n",
    "\n",
    "S_square_a = np.var(a, ddof=1)\n",
    "S_square_b = np.var(b, ddof=1)\n",
    "\n",
    "f_statistic = S_square_a / S_square_b \n",
    "F = stats.f(len(a)-1, len(b)-1) \n",
    "p_value = 2*min(F.cdf(f_statistic), F.sf(f_statistic))\n",
    "f_statistic_ = F.ppf(1-(p_value/2))\n",
    "print(f_statistic, f_statistic_, p_value)\n",
    "\n",
    "fig, ax = plt.subplots()\n",
    "\n",
    "x = np.linspace(0, 5, 100) \n",
    "y = F.pdf(x)\n",
    "x = np.concatenate([[0], x, [5], [0]])\n",
    "y = np.concatenate([[0], y, [0], [0]])\n",
    "ax.fill(x, y, color='b', alpha=0.3)\n",
    "ax.plot(x, y, color='b', linewidth=3)\n",
    "\n",
    "# x = np.linspace(0, f_statistic)\n",
    "# y = F.pdf(x) \n",
    "# x = np.concatenate([[0], x, [f_statistic], [0]])\n",
    "# y = np.concatenate([[0], y, [0], [0]])\n",
    "# ax.fill(x, y, color='r', alpha=0.3)\n",
    "# ax.plot(x, y, color='r', linewidth=3)\n",
    "\n",
    "x = np.linspace(f_statistic_, 5, 100)\n",
    "y = F.pdf(x) \n",
    "x = np.concatenate([[f_statistic_], x, [5], [f_statistic_]])\n",
    "y = np.concatenate([[0], y, [0], [0]])\n",
    "ax.fill(x, y, color='r', alpha=0.3)\n",
    "ax.plot(x, y, color='r', linewidth=3)\n",
    "\n",
    "# xy = (f_statistic*2, 0.1)\n",
    "# xytext = (3, 0.5)\n",
    "# arrowprops = dict(color='r', width=0.2, headwidth=8)\n",
    "# ax.annotate('p_value', xy, xytext=xytext, fontsize=15, arrowprops=arrowprops)\n",
    "\n",
    "xy = (4.5, 0.1)\n",
    "xytext = (3, 0.5)\n",
    "arrowprops = dict(color='r', width=0.2, headwidth=8)\n",
    "ax.annotate('p_value', xy, xytext=xytext, fontsize=15, arrowprops=arrowprops)\n",
    "        \n",
    "plt.show()"
   ]
  },
  {
   "cell_type": "code",
   "execution_count": null,
   "metadata": {},
   "outputs": [],
   "source": []
  }
 ],
 "metadata": {
  "kernelspec": {
   "display_name": "Python 3",
   "language": "python",
   "name": "python3"
  },
  "language_info": {
   "codemirror_mode": {
    "name": "ipython",
    "version": 3
   },
   "file_extension": ".py",
   "mimetype": "text/x-python",
   "name": "python",
   "nbconvert_exporter": "python",
   "pygments_lexer": "ipython3",
   "version": "3.6.9"
  }
 },
 "nbformat": 4,
 "nbformat_minor": 2
}
