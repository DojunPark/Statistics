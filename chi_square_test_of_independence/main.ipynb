{
 "cells": [
  {
   "cell_type": "markdown",
   "metadata": {},
   "source": [
    "[Understandable_Statistics](https://www.youtube.com/watch?v=RvGb5L_A16w&list=PL4BztsgicSEeC4Oic6s5vW4LE-0YZTuo-&index=18&t=0s)\n",
    "[scipy](https://docs.scipy.org/doc/scipy/reference/generated/scipy.stats.chi2_contingency.html)"
   ]
  },
  {
   "cell_type": "markdown",
   "metadata": {},
   "source": [
    "$$\\begin{array}{ccc}\n",
    "   &\\mbox{goodness of fit}&\\mbox{independence}&\\mbox{homogeneity}&\\\\\n",
    "H_0&\\mbox{dist}(X)=\\mbox{benchmark dist}&X,\\ Y\\ \\mbox{independent}&\\mbox{dist}(X|Y=i)=\\mbox{dist}(X|Y=j)\\\\\n",
    "H_a&\\mbox{dist}(X)\\not=\\mbox{benchmark dist}&X,\\ Y\\ \\mbox{not independent}&\\mbox{dist}(X|Y=i)\\not=\\mbox{dist}(X|Y=j)\\\\\n",
    "\\mbox{Data}&x\\sim X&(x,y)\\sim (X,Y)&x_i\\sim X|Y=i, x_j\\sim X|Y=j\\\\\n",
    "\\mbox{scipy}&\\mbox{scipy.stats.chisquare}&\\mbox{scipy.stats.chi2_contingency}&\\mbox{scipy.stats.chi2_contingency}\n",
    "\\end{array}$$"
   ]
  },
  {
   "cell_type": "code",
   "execution_count": 1,
   "metadata": {},
   "outputs": [
    {
     "name": "stdout",
     "output_type": "stream",
     "text": [
      "13.315833333333334\n",
      "0.009831372848336144\n"
     ]
    }
   ],
   "source": [
    "import pandas as pd\n",
    "import numpy as np\n",
    "import scipy.stats as stats\n",
    "\n",
    "observed = np.array([[25,30,25],[30,71,19],[35,49,16]])\n",
    "df = pd.DataFrame(observed, index=['A','B','C'])\n",
    "df.columns = ['21-40','41-60','61-80']\n",
    "# print(df)\n",
    "# print()\n",
    "\n",
    "chi2, p_value, DF, expected = stats.chi2_contingency(df)\n",
    "print(chi2)\n",
    "print(p_value)\n",
    "# print(DF)\n",
    "# print(expected)"
   ]
  },
  {
   "cell_type": "markdown",
   "metadata": {},
   "source": [
    "<div align=\"center\"><img src=\"img/Screen Shot 2019-08-16 at 12.39.25 PM.png\" width=\"100%\" height=\"30%\"></div>\n",
    "\n",
    "[Understandable_Statistics](https://www.youtube.com/watch?v=RvGb5L_A16w&list=PL4BztsgicSEeC4Oic6s5vW4LE-0YZTuo-&index=18&t=0s)"
   ]
  },
  {
   "cell_type": "code",
   "execution_count": 2,
   "metadata": {},
   "outputs": [
    {
     "name": "stdout",
     "output_type": "stream",
     "text": [
      "              21-40  41-60  61-80  Row_Total\n",
      "A              25.0   30.0   25.0       80.0\n",
      "B              30.0   71.0   19.0      120.0\n",
      "C              35.0   49.0   16.0      100.0\n",
      "Column_Total   90.0  150.0   60.0      300.0\n"
     ]
    }
   ],
   "source": [
    "contingency_table = df.copy()\n",
    "contingency_table.loc['Column_Total',:] = contingency_table.sum()\n",
    "contingency_table.loc[:,'Row_Total'] = contingency_table.sum(axis=1)\n",
    "print(contingency_table)"
   ]
  },
  {
   "cell_type": "markdown",
   "metadata": {},
   "source": [
    "$$\n",
    "P(X=i,Y=j)=P(X=i)P(Y=j)=\\frac{\\mbox{Row_Total[i]}}{\\mbox{Sample_Size}}\\frac{\\mbox{Column_Total[j]}}{\\mbox{Sample_Size}}\n",
    "$$\n",
    "$$$$\n",
    "$$\n",
    "\\mbox{Expected}(X=i,Y=j)=\\frac{\\mbox{Row_Total[i]}*\\mbox{Column_Total[j]}}{\\mbox{Sample_Size}}\n",
    "$$\n",
    "$$$$\n",
    "\n",
    "<div align=\"center\"><img src=\"img/Screen Shot 2019-08-16 at 12.39.44 PM.png\" width=\"60%\" height=\"30%\"></div>\n",
    "\n",
    "[Understandable_Statistics](https://www.youtube.com/watch?v=RvGb5L_A16w&list=PL4BztsgicSEeC4Oic6s5vW4LE-0YZTuo-&index=18&t=0s)\n",
    "\n",
    "<div align=\"center\"><img src=\"img/Screen Shot 2019-08-16 at 12.40.06 PM.png\" width=\"100%\" height=\"30%\"></div>\n",
    "\n",
    "[Understandable_Statistics](https://www.youtube.com/watch?v=RvGb5L_A16w&list=PL4BztsgicSEeC4Oic6s5vW4LE-0YZTuo-&index=18&t=0s)"
   ]
  },
  {
   "cell_type": "code",
   "execution_count": 3,
   "metadata": {},
   "outputs": [
    {
     "name": "stdout",
     "output_type": "stream",
     "text": [
      "   21-40  41-60  61-80\n",
      "A   24.0   40.0   16.0\n",
      "B   36.0   60.0   24.0\n",
      "C   30.0   50.0   20.0\n"
     ]
    }
   ],
   "source": [
    "df_expected = df.copy()\n",
    "for i in df_expected.index:\n",
    "    for j in df_expected.columns:\n",
    "        row_total = contingency_table.loc[i,'Row_Total'] \n",
    "        column_total = contingency_table.loc['Column_Total',j] \n",
    "        sample_size = contingency_table.loc['Column_Total','Row_Total'] \n",
    "        df_expected.loc[i,j] = row_total*column_total/sample_size\n",
    "print(df_expected)"
   ]
  },
  {
   "cell_type": "markdown",
   "metadata": {},
   "source": [
    "<div align=\"center\"><img src=\"img/Screen Shot 2019-08-16 at 12.40.32 PM.png\" width=\"60%\" height=\"30%\"></div>\n",
    "\n",
    "[Understandable_Statistics](https://www.youtube.com/watch?v=RvGb5L_A16w&list=PL4BztsgicSEeC4Oic6s5vW4LE-0YZTuo-&index=18&t=0s)"
   ]
  },
  {
   "cell_type": "code",
   "execution_count": 4,
   "metadata": {},
   "outputs": [
    {
     "name": "stdout",
     "output_type": "stream",
     "text": [
      "13.315833333333334\n"
     ]
    }
   ],
   "source": [
    "chi2 = np.sum(np.sum((df - df_expected)**2 / df_expected))\n",
    "print(chi2)"
   ]
  },
  {
   "cell_type": "markdown",
   "metadata": {},
   "source": [
    "<div align=\"center\"><img src=\"img/Screen Shot 2019-08-16 at 12.40.45 PM.png\" width=\"60%\" height=\"30%\"></div>\n",
    "\n",
    "[Understandable_Statistics](https://www.youtube.com/watch?v=RvGb5L_A16w&list=PL4BztsgicSEeC4Oic6s5vW4LE-0YZTuo-&index=18&t=0s)"
   ]
  },
  {
   "cell_type": "code",
   "execution_count": 5,
   "metadata": {},
   "outputs": [
    {
     "name": "stdout",
     "output_type": "stream",
     "text": [
      "4\n"
     ]
    }
   ],
   "source": [
    "DF = (df.shape[0]-1) * (df.shape[1]-1)\n",
    "print(DF)"
   ]
  },
  {
   "cell_type": "markdown",
   "metadata": {},
   "source": [
    "<div align=\"center\"><img src=\"img/Screen Shot 2019-08-16 at 12.41.07 PM.png\" width=\"30%\" height=\"30%\"></div>\n",
    "\n",
    "[Understandable_Statistics](https://www.youtube.com/watch?v=RvGb5L_A16w&list=PL4BztsgicSEeC4Oic6s5vW4LE-0YZTuo-&index=18&t=0s)"
   ]
  },
  {
   "cell_type": "code",
   "execution_count": 6,
   "metadata": {},
   "outputs": [
    {
     "name": "stdout",
     "output_type": "stream",
     "text": [
      "0.009831372848336128\n"
     ]
    }
   ],
   "source": [
    "import scipy.stats as stats\n",
    "\n",
    "p_value = 1 - stats.chi2.cdf(chi2, DF)\n",
    "print(p_value)"
   ]
  },
  {
   "cell_type": "code",
   "execution_count": null,
   "metadata": {},
   "outputs": [],
   "source": []
  }
 ],
 "metadata": {
  "kernelspec": {
   "display_name": "Python 3",
   "language": "python",
   "name": "python3"
  },
  "language_info": {
   "codemirror_mode": {
    "name": "ipython",
    "version": 3
   },
   "file_extension": ".py",
   "mimetype": "text/x-python",
   "name": "python",
   "nbconvert_exporter": "python",
   "pygments_lexer": "ipython3",
   "version": "3.6.9"
  }
 },
 "nbformat": 4,
 "nbformat_minor": 2
}
