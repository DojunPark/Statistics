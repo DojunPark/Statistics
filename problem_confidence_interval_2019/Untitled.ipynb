{
 "cells": [
  {
   "cell_type": "markdown",
   "metadata": {},
   "source": [
    "<div align=\"center\"><img src=\"img/2019-3.png\" width=\"70%\"></div>"
   ]
  },
  {
   "cell_type": "markdown",
   "metadata": {},
   "source": [
    "$$\n",
    "X\\sim N\\left(\\mu,9^2\\right)\n",
    "\\quad\\Rightarrow\\quad\n",
    "\\bar{X}\\sim N\\left(\\mu,\\frac{9^2}{36}\\right)=N\\left(\\mu,\\frac{3^2}{2^2}\\right)\n",
    "$$\n",
    "$$$$\n",
    "Let $z_*=1.64$ be $P(|Z|>z_*)=0.1$.\n",
    "$$\n",
    "P\\left(\\left|\\bar{X}-\\mu\\right|>c\\right)\n",
    "=\n",
    "P\\left(\\left|\\frac{\\bar{X}-\\mu}{\\frac{3}{2}}\\right|>\\frac{c}{\\frac{3}{2}}\\right)\n",
    "=0.1\n",
    "$$\n",
    "implies\n",
    "$$\n",
    "\\frac{c}{\\frac{3}{2}}=z_*\n",
    "\\quad\\Rightarrow\\quad\n",
    "c=z_*\\frac{3}{2}=2.46\n",
    "$$\n",
    "$$$$\n",
    "With 90%\n",
    "$$\n",
    "\\left|\\bar{X}-\\mu\\right|\\le 2.46\n",
    "\\quad\\Rightarrow\\quad\n",
    "\\bar{X}-2.46\\le\\mu\\le\\bar{X}+2.46\n",
    "$$\n",
    "If $\\bar{X}=60$, the 90% confidence interval is\n",
    "$$\n",
    "60\\pm 2.46\\quad\\mbox{or}\\quad [60-2.46,60+2.46]\n",
    "$$"
   ]
  },
  {
   "cell_type": "code",
   "execution_count": null,
   "metadata": {},
   "outputs": [],
   "source": []
  }
 ],
 "metadata": {
  "kernelspec": {
   "display_name": "Python 3",
   "language": "python",
   "name": "python3"
  },
  "language_info": {
   "codemirror_mode": {
    "name": "ipython",
    "version": 3
   },
   "file_extension": ".py",
   "mimetype": "text/x-python",
   "name": "python",
   "nbconvert_exporter": "python",
   "pygments_lexer": "ipython3",
   "version": "3.6.9"
  }
 },
 "nbformat": 4,
 "nbformat_minor": 2
}
