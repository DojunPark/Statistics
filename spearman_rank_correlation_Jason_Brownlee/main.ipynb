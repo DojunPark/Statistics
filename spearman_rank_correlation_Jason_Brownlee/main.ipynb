{
 "cells": [
  {
   "cell_type": "markdown",
   "metadata": {},
   "source": [
    "[Understandable_Statistics](https://www.youtube.com/watch?v=-FMeXUcZC48&list=PL4BztsgicSEeC4Oic6s5vW4LE-0YZTuo-&index=16&t=4s)\n",
    "[Jason_Brownlee](https://machinelearningmastery.com/how-to-calculate-nonparametric-rank-correlation-in-python/)\n",
    "[scipy](https://docs.scipy.org/doc/scipy/reference/generated/scipy.stats.spearmanr.html)"
   ]
  },
  {
   "cell_type": "code",
   "execution_count": 1,
   "metadata": {},
   "outputs": [],
   "source": [
    "%matplotlib inline"
   ]
  },
  {
   "cell_type": "code",
   "execution_count": 2,
   "metadata": {},
   "outputs": [
    {
     "data": {
      "image/png": "[encoded data removed]",
      "text/plain": [
       "<Figure size 432x288 with 1 Axes>"
      ]
     },
     "metadata": {
      "needs_background": "light"
     },
     "output_type": "display_data"
    }
   ],
   "source": [
    "import numpy as np\n",
    "import matplotlib.pyplot as plt\n",
    "\n",
    "np.random.seed(1)\n",
    "\n",
    "# https://docs.scipy.org/doc/scipy/reference/generated/scipy.stats.spearmanr.html\n",
    "# The p-value roughly indicates \n",
    "# the probability of an uncorrelated system producing datasets \n",
    "# that have a Spearman correlation at least as extreme as \n",
    "# the one computed from these datasets. \n",
    "# The p-values are not entirely reliable \n",
    "# but are probably reasonable for datasets larger than 500 or so.\n",
    "data1 = np.random.rand(500) * 20\n",
    "#data2 = (data1 + (np.random.rand(500) * 10))**3\n",
    "data2 = np.sin(data1 + (np.random.rand(500) * 10))\n",
    "\n",
    "plt.scatter(data1, data2)\n",
    "plt.show()"
   ]
  },
  {
   "cell_type": "code",
   "execution_count": 3,
   "metadata": {},
   "outputs": [
    {
     "name": "stdout",
     "output_type": "stream",
     "text": [
      "          data1     data2\n",
      "data1  1.000000 -0.026208\n",
      "data2 -0.026208  1.000000\n",
      "          data1     data2\n",
      "data1  1.000000 -0.023098\n",
      "data2 -0.023098  1.000000\n",
      "          data1     data2\n",
      "data1  1.000000 -0.012361\n",
      "data2 -0.012361  1.000000\n"
     ]
    }
   ],
   "source": [
    "import pandas as pd\n",
    "\n",
    "data = {'data1': data1, 'data2': data2}\n",
    "df = pd.DataFrame(data)\n",
    "print(df.corr(method='pearson'))\n",
    "print(df.corr(method='spearman'))\n",
    "print(df.corr(method='kendall'))"
   ]
  },
  {
   "cell_type": "markdown",
   "metadata": {},
   "source": [
    "<div align=\"center\"><img src=\"img/Screen Shot 2019-08-19 at 4.36.10 PM.png\" width=\"100%\" height=\"30%\"></div>\n",
    "\n",
    "[wiki](https://en.wikipedia.org/wiki/Spearman%27s_rank_correlation_coefficient)"
   ]
  },
  {
   "cell_type": "code",
   "execution_count": 4,
   "metadata": {},
   "outputs": [
    {
     "name": "stdout",
     "output_type": "stream",
     "text": [
      "Spearman's rank correlation coefficient: -0.023098364393457572\n"
     ]
    }
   ],
   "source": [
    "import scipy.stats as stats\n",
    "\n",
    "if 0:\n",
    "    # Spearman’s Rank Correlation\n",
    "    coef, p = stats.spearmanr(data1, data2)\n",
    "    print('Spearman\\'s rank correlation coefficient: {}'.format(coef))\n",
    "elif 1:\n",
    "    # Kendall’s Rank Correlation\n",
    "    coef, p = stats.kendalltau(data1, data2)\n",
    "    print('Kendall\\’s rank correlation coefficient: {}'.format(coef))"
   ]
  },
  {
   "cell_type": "code",
   "execution_count": 5,
   "metadata": {},
   "outputs": [
    {
     "name": "stdout",
     "output_type": "stream",
     "text": [
      "Samples are uncorrelated (fail to reject H0) p=0.6063635528614038\n"
     ]
    }
   ],
   "source": [
    "alpha = 0.05\n",
    "# https://docs.scipy.org/doc/scipy/reference/generated/scipy.stats.spearmanr.html\n",
    "# pvalue float\n",
    "# The two-sided p-value for a hypothesis test \n",
    "# whose null hypothesis is that two sets of data are uncorrelated, \n",
    "# has same dimension as rho.\n",
    "if p > alpha:\n",
    "    print('Samples are uncorrelated (fail to reject H0) p={}'.format(p))\n",
    "else:\n",
    "    print('Samples are correlated (reject H0) p={}'.format(p))"
   ]
  },
  {
   "cell_type": "markdown",
   "metadata": {},
   "source": [
    "[Code Project] Compute Spearman’s rank correlation of data1 and data2 using pandas' basic functionalities without corr method. "
   ]
  },
  {
   "cell_type": "markdown",
   "metadata": {},
   "source": [
    "<div align=\"center\"><img src=\"img/Screen Shot 2019-08-19 at 4.54.24 PM.png\" width=\"100%\" height=\"30%\"></div>\n",
    "\n",
    "[Understandable_Statistics](https://www.youtube.com/watch?v=-FMeXUcZC48&list=PL4BztsgicSEeC4Oic6s5vW4LE-0YZTuo-&index=16&t=4s)"
   ]
  },
  {
   "cell_type": "code",
   "execution_count": 6,
   "metadata": {},
   "outputs": [
    {
     "name": "stdout",
     "output_type": "stream",
     "text": [
      "Samples are uncorrelated (fail to reject H0) p=0.3031817764307019\n"
     ]
    }
   ],
   "source": [
    "alpha = 0.05\n",
    "if (p/2) > alpha:\n",
    "    print('Samples are uncorrelated (fail to reject H0) p={}'.format(p/2))\n",
    "else:\n",
    "    print('Samples are positively correlated (reject H0) p={}'.format(p/2))"
   ]
  },
  {
   "cell_type": "code",
   "execution_count": null,
   "metadata": {},
   "outputs": [],
   "source": []
  }
 ],
 "metadata": {
  "kernelspec": {
   "display_name": "Python 3",
   "language": "python",
   "name": "python3"
  },
  "language_info": {
   "codemirror_mode": {
    "name": "ipython",
    "version": 3
   },
   "file_extension": ".py",
   "mimetype": "text/x-python",
   "name": "python",
   "nbconvert_exporter": "python",
   "pygments_lexer": "ipython3",
   "version": "3.7.3"
  }
 },
 "nbformat": 4,
 "nbformat_minor": 2
}
