{
 "cells": [
  {
   "cell_type": "markdown",
   "metadata": {},
   "source": [
    "[scipy.stats.ttest_ind](https://docs.scipy.org/doc/scipy/reference/generated/scipy.stats.ttest_ind.html)\n",
    "[scipy.stats.ttest_rel](https://docs.scipy.org/doc/scipy/reference/generated/scipy.stats.ttest_rel.html?highlight=ttest_rel#scipy.stats.ttest_rel)\n",
    "[Erik_Marsja](https://www.youtube.com/watch?v=ZR6bf8_s-hw)\n",
    "khanacademy\n",
    "[1](https://www.khanacademy.org/math/ap-statistics/two-sample-inference/two-sample-t-test-means/v/alternative-hypothesis-for-2-sample-t-test)\n",
    "[2](https://www.khanacademy.org/math/ap-statistics/two-sample-inference/two-sample-t-test-means/v/example-of-hypotheses-for-paired-and-2-sample-t-tests)\n",
    "[3](https://www.khanacademy.org/math/ap-statistics/two-sample-inference/two-sample-t-test-means/v/two-sample-t-test-for-difference-of-means)\n",
    "[4](https://www.khanacademy.org/math/ap-statistics/two-sample-inference/two-sample-t-test-means/v/conclusion-for-2-sample-t-test-from-p-value)\n",
    "[5](https://www.khanacademy.org/math/ap-statistics/two-sample-inference/two-sample-t-test-means/v/conclusion-for-2-sample-t-test-from-confidence-interval)"
   ]
  },
  {
   "cell_type": "markdown",
   "metadata": {},
   "source": [
    "<div align=\"center\"><img src=\"img/Screen Shot 2019-08-20 at 1.24.22 PM.png\" width=\"100%\" height=\"30%\"></div>\n",
    "\n",
    "[Engineering_Statistics_Handbook](https://www.itl.nist.gov/div898/handbook/eda/section3/eda353.htm)\n",
    "\n",
    "<div align=\"center\"><img src=\"img/Screen Shot 2019-08-20 at 1.24.45 PM.png\" width=\"100%\" height=\"30%\"></div>\n",
    "\n",
    "[Engineering_Statistics_Handbook](https://www.itl.nist.gov/div898/handbook/eda/section3/eda353.htm)"
   ]
  },
  {
   "cell_type": "code",
   "execution_count": 1,
   "metadata": {},
   "outputs": [],
   "source": [
    "%matplotlib inline"
   ]
  },
  {
   "cell_type": "code",
   "execution_count": 23,
   "metadata": {},
   "outputs": [
    {
     "data": {
      "image/png": "[encoded data removed]",
      "text/plain": [
       "<Figure size 432x288 with 1 Axes>"
      ]
     },
     "metadata": {
      "needs_background": "light"
     },
     "output_type": "display_data"
    },
    {
     "name": "stdout",
     "output_type": "stream",
     "text": [
      "1.3675073601947974 0.17301660028620303\n"
     ]
    }
   ],
   "source": [
    "import numpy as np\n",
    "import matplotlib.pyplot as plt\n",
    "import scipy.stats as stats\n",
    "\n",
    "np.random.seed(0)\n",
    " \n",
    "x1 = np.random.normal(2.0, 1.9, 100) # drinks_before or independent\n",
    "x2 = np.random.normal(1.8, 0.5, 100) # drinks_after or independent\n",
    "\n",
    "plt.hist(x1, bins=np.linspace(-1,6,50), density=True, color='g', alpha=0.5)\n",
    "plt.hist(x2, bins=np.linspace(-1,6,50), density=True, color='b', alpha=0.5)\n",
    "plt.show()\n",
    "\n",
    "if 1:\n",
    "    # Calculate the T-test for the means of two independent samples of scores.\n",
    "    stat, p_value = stats.ttest_ind(x1, x2)\n",
    "elif 1:\n",
    "    # Calculate the T-test on TWO RELATED samples of scores, a and b.\n",
    "    stat, p_value = stats.ttest_rel(x1, x2)\n",
    "    \n",
    "print(stat, p_value)    "
   ]
  },
  {
   "cell_type": "code",
   "execution_count": 27,
   "metadata": {},
   "outputs": [
    {
     "name": "stdout",
     "output_type": "stream",
     "text": [
      "1.3675073601947974\n",
      "113.37383119571138\n",
      "0.1741712110639699\n"
     ]
    }
   ],
   "source": [
    "import numpy as np\n",
    "import scipy.stats as stats\n",
    "\n",
    "x1_bar = x1.mean()\n",
    "x2_bar = x2.mean()\n",
    "N1 = x1.shape[0]\n",
    "N2 = x2.shape[0]\n",
    "s1 = x1.std(ddof=1)\n",
    "s2 = x2.std(ddof=1)\n",
    "s_p = np.sqrt( ((N1-1)*s1**2 + (N2-1)*s2**2) / (N1+N2-2) ) \n",
    "\n",
    "if 1:\n",
    "    # if variances are different\n",
    "    t_value = (x1_bar - x2_bar) / np.sqrt(s1**2/N1 + s2**2/N2)\n",
    "elif 1:\n",
    "    # if variances are identical\n",
    "    t_value = (x1_bar - x2_bar) / s_p *np.sqrt(1/N1 + 1/N2)   \n",
    "print(t_value)\n",
    "\n",
    "# https://www.itl.nist.gov/div898/handbook/eda/section3/eda353.htm\n",
    "if 1:\n",
    "    # if variances are different\n",
    "    top = (s1**2/N1 + s2**2/N2)**2\n",
    "    bottom = (s1**2/N1)**2/(N1-1) + (s2**2/N2)**2/(N2-1) \n",
    "    df = top / bottom\n",
    "elif 1:\n",
    "    # if variances are identical\n",
    "    df = N1 + N2 -2\n",
    "print(df)\n",
    "\n",
    "p_value = 2 * stats.t.cdf(-np.abs(t_value), df)\n",
    "print(p_value)"
   ]
  },
  {
   "cell_type": "markdown",
   "metadata": {},
   "source": [
    "<div align=\"center\"><img src=\"img/Screen Shot 2019-08-15 at 6.16.45 PM.png\" width=\"100%\" height=\"30%\"></div> \n",
    "\n",
    "[khanacademy](https://www.khanacademy.org/math/ap-statistics/two-sample-inference/two-sample-t-test-means/e/p-value-in-a-two-sample-t-test-for-the-difference-of-means)"
   ]
  },
  {
   "cell_type": "code",
   "execution_count": 4,
   "metadata": {},
   "outputs": [
    {
     "name": "stdout",
     "output_type": "stream",
     "text": [
      "129.71699161423916\n",
      "0.1124434757756921\n"
     ]
    }
   ],
   "source": [
    "import numpy as np\n",
    "from scipy.stats import t\n",
    "\n",
    "s1 = 2.6\n",
    "s2 = 2.2\n",
    "N1 = 67\n",
    "N2 = 72\n",
    "\n",
    "t_value = (6.5 - 6.0) / np.sqrt(s1**2/N1 + s2**2/N2)\n",
    "\n",
    "# https://www.itl.nist.gov/div898/handbook/eda/section3/eda353.htm\n",
    "top = (s1**2/N1 + s2**2/N2)**2\n",
    "bottom = (s1**2/N1)**2/(N1-1) + (s2**2/N2)**2/(N2-1) \n",
    "df = top / bottom\n",
    "print(df)\n",
    "\n",
    "p_value = t.cdf(-t_value, df)\n",
    "print(p_value)"
   ]
  },
  {
   "cell_type": "markdown",
   "metadata": {},
   "source": [
    "<div align=\"center\"><img src=\"img/Screen Shot 2019-08-15 at 6.19.50 PM.png\" width=\"100%\" height=\"30%\"></div>  \n",
    "\n",
    "[khanacademy](https://www.khanacademy.org/math/ap-statistics/two-sample-inference/two-sample-t-test-means/e/p-value-in-a-two-sample-t-test-for-the-difference-of-means)"
   ]
  },
  {
   "cell_type": "code",
   "execution_count": 5,
   "metadata": {},
   "outputs": [
    {
     "name": "stdout",
     "output_type": "stream",
     "text": [
      "0.036595844311059514\n"
     ]
    }
   ],
   "source": [
    "import numpy as np\n",
    "from scipy.stats import t\n",
    "\n",
    "mu1 = 1.98\n",
    "mu2 = 1.32\n",
    "s1 = 1.77\n",
    "s2 = 1.28\n",
    "N1 = 46\n",
    "N2 = 58\n",
    "\n",
    "t_value = (mu1 - mu2) / np.sqrt(s1**2/N1 + s2**2/N2)\n",
    "\n",
    "# https://www.itl.nist.gov/div898/handbook/eda/section3/eda353.htm\n",
    "top = (s1**2/N1 + s2**2/N2)**2\n",
    "bottom = (s1**2/N1)**2/(N1-1) + (s2**2/N2)**2/(N2-1) \n",
    "df = top / bottom\n",
    "\n",
    "p_value = 2 * t.cdf(-t_value, df)\n",
    "print(p_value)"
   ]
  },
  {
   "cell_type": "markdown",
   "metadata": {},
   "source": [
    "<div align=\"center\"><img src=\"img/Screen Shot 2019-08-15 at 6.20.15 PM.png\" width=\"100%\" height=\"30%\"></div>  \n",
    "\n",
    "[khanacademy](https://www.khanacademy.org/math/ap-statistics/two-sample-inference/two-sample-t-test-means/e/p-value-in-a-two-sample-t-test-for-the-difference-of-means)"
   ]
  },
  {
   "cell_type": "code",
   "execution_count": 6,
   "metadata": {},
   "outputs": [
    {
     "name": "stdout",
     "output_type": "stream",
     "text": [
      "0.005261467858258187\n"
     ]
    }
   ],
   "source": [
    "import numpy as np\n",
    "from scipy.stats import t\n",
    "\n",
    "mu1 = 67\n",
    "mu2 = 70\n",
    "s1 = 9\n",
    "s2 = 8\n",
    "N1 = 104\n",
    "N2 = 112\n",
    "\n",
    "t_value = (mu2 - mu1) / np.sqrt(s1**2/N1 + s2**2/N2)\n",
    "\n",
    "# https://www.itl.nist.gov/div898/handbook/eda/section3/eda353.htm\n",
    "top = (s1**2/N1 + s2**2/N2)**2\n",
    "bottom = (s1**2/N1)**2/(N1-1) + (s2**2/N2)**2/(N2-1) \n",
    "df = top / bottom\n",
    "\n",
    "p_value = t.cdf(-t_value, df)\n",
    "print(p_value)"
   ]
  },
  {
   "cell_type": "markdown",
   "metadata": {},
   "source": [
    "<div align=\"center\"><img src=\"img/Screen Shot 2019-08-15 at 6.20.35 PM.png\" width=\"100%\" height=\"30%\"></div>  \n",
    "\n",
    "[khanacademy](https://www.khanacademy.org/math/ap-statistics/two-sample-inference/two-sample-t-test-means/e/p-value-in-a-two-sample-t-test-for-the-difference-of-means)"
   ]
  },
  {
   "cell_type": "code",
   "execution_count": 7,
   "metadata": {},
   "outputs": [
    {
     "name": "stdout",
     "output_type": "stream",
     "text": [
      "0.184975037350408\n"
     ]
    }
   ],
   "source": [
    "import numpy as np\n",
    "from scipy.stats import t\n",
    "\n",
    "mu1 = 1.97\n",
    "mu2 = 1.65\n",
    "s1 = 1.76\n",
    "s2 = 1.41\n",
    "N1 = 88\n",
    "N2 = 88\n",
    "\n",
    "t_value = (mu1 - mu2) / np.sqrt(s1**2/N1 + s2**2/N2)\n",
    "\n",
    "# https://www.itl.nist.gov/div898/handbook/eda/section3/eda353.htm\n",
    "top = (s1**2/N1 + s2**2/N2)**2\n",
    "bottom = (s1**2/N1)**2/(N1-1) + (s2**2/N2)**2/(N2-1) \n",
    "df = top / bottom\n",
    "\n",
    "p_value = 2 * t.cdf(-t_value, df)\n",
    "print(p_value)"
   ]
  },
  {
   "cell_type": "code",
   "execution_count": null,
   "metadata": {},
   "outputs": [],
   "source": []
  }
 ],
 "metadata": {
  "kernelspec": {
   "display_name": "Python 3",
   "language": "python",
   "name": "python3"
  },
  "language_info": {
   "codemirror_mode": {
    "name": "ipython",
    "version": 3
   },
   "file_extension": ".py",
   "mimetype": "text/x-python",
   "name": "python",
   "nbconvert_exporter": "python",
   "pygments_lexer": "ipython3",
   "version": "3.7.3"
  }
 },
 "nbformat": 4,
 "nbformat_minor": 2
}
