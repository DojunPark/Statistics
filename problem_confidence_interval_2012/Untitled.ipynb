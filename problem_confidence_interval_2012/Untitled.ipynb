{
 "cells": [
  {
   "cell_type": "markdown",
   "metadata": {},
   "source": [
    "<div align=\"center\"><img src=\"img/2012-3.png\" width=\"70%\"></div>"
   ]
  },
  {
   "cell_type": "markdown",
   "metadata": {},
   "source": [
    "$$\n",
    "\\bar{X}-\\bar{Y}\\pm z_*\\sqrt{\\sigma^2_{\\bar{X}}+\\sigma^2_{\\bar{Y}}}\n",
    "\\quad\\Rightarrow\\quad\n",
    "\\mbox{Length of CI:}\\quad 2z_*\\sqrt{\\sigma^2_{\\bar{X}}+\\sigma^2_{\\bar{Y}}}\n",
    "$$\n",
    "$$$$\n",
    "$$\n",
    "z_*=1.96\n",
    "$$\n",
    "$$$$\n",
    "$$\n",
    "\\sigma^2_{\\bar{X}}=\\frac{36}{n},\\quad\n",
    "\\sigma^2_{\\bar{Y}}=\\frac{64}{n}\n",
    "$$\n",
    "$$$$\n",
    "$$\n",
    "2z_*\\sqrt{\\sigma^2_{\\bar{X}}+\\sigma^2_{\\bar{Y}}}\n",
    "=\n",
    "2*1.96\\sqrt{\\frac{36}{n}+\\frac{64}{n}}\n",
    "=\n",
    "2*1.96*\\frac{10}{\\sqrt{n}}=4.9\n",
    "$$"
   ]
  },
  {
   "cell_type": "code",
   "execution_count": null,
   "metadata": {},
   "outputs": [],
   "source": []
  }
 ],
 "metadata": {
  "kernelspec": {
   "display_name": "Python 3",
   "language": "python",
   "name": "python3"
  },
  "language_info": {
   "codemirror_mode": {
    "name": "ipython",
    "version": 3
   },
   "file_extension": ".py",
   "mimetype": "text/x-python",
   "name": "python",
   "nbconvert_exporter": "python",
   "pygments_lexer": "ipython3",
   "version": "3.6.9"
  }
 },
 "nbformat": 4,
 "nbformat_minor": 2
}
