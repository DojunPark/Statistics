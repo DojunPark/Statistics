{
 "cells": [
  {
   "cell_type": "markdown",
   "metadata": {},
   "source": [
    "[wiki](https://en.wikipedia.org/wiki/One-way_analysis_of_variance)\n",
    "Erik_Marsja [youtube](https://www.youtube.com/watch?time_continue=146&v=Lp2aV_4LF48) [blog](https://www.marsja.se/four-ways-to-conduct-one-way-anovas-using-python/)"
   ]
  },
  {
   "cell_type": "markdown",
   "metadata": {},
   "source": [
    "<div align=\"center\"><img src=\"img/Screen Shot 2019-08-14 at 10.56.08 PM.png\" width=\"100%\" height=\"30%\"></div>\n",
    "\n",
    "https://en.wikipedia.org/wiki/One-way_analysis_of_variance"
   ]
  },
  {
   "cell_type": "code",
   "execution_count": 14,
   "metadata": {},
   "outputs": [
    {
     "name": "stdout",
     "output_type": "stream",
     "text": [
      "            df    sum_sq   mean_sq         F   PR(>F)\n",
      "group      2.0   3.76634  1.883170  4.846088  0.01591\n",
      "Residual  27.0  10.49209  0.388596       NaN      NaN\n"
     ]
    },
    {
     "data": {
      "image/png": "[encoded data removed]",
      "text/plain": [
       "<Figure size 576x360 with 1 Axes>"
      ]
     },
     "metadata": {
      "needs_background": "light"
     },
     "output_type": "display_data"
    }
   ],
   "source": [
    "%matplotlib inline\n",
    "import pandas as pd\n",
    "from statsmodels.formula.api import ols\n",
    "from statsmodels.stats.anova import anova_lm\n",
    "df = pd.read_csv(\"data/PlantGrowth.csv\", usecols=[1,2])\n",
    "df.boxplot('weight', by='group', figsize=(8, 5))\n",
    "model = ols('weight ~ group', df).fit()\n",
    "print(anova_lm(model))"
   ]
  },
  {
   "cell_type": "code",
   "execution_count": 10,
   "metadata": {},
   "outputs": [
    {
     "name": "stdout",
     "output_type": "stream",
     "text": [
      "0.015909958325621407\n"
     ]
    }
   ],
   "source": [
    "# notations are from https://en.wikipedia.org/wiki/One-way_analysis_of_variance\n",
    "\n",
    "import pandas as pd\n",
    "import numpy as np\n",
    "import scipy.stats as stats\n",
    "\n",
    "J = len(pd.unique(df.group))  # number of treatments\n",
    "I_j = df.groupby('group').size()[0] # participants in each condition\n",
    "I = J * I_j  # participants times conditions\n",
    "\n",
    "DF_Treatment = J - 1 \n",
    "DF_Error = I - J \n",
    "DF_Total = I - 1\n",
    "\n",
    "SS_Treatment = sum(df.groupby('group').sum()['weight']**2/I_j) \\\n",
    "    - (df['weight'].sum()**2)/I\n",
    "SS_Error = np.sum(df['weight'].values**2) \\\n",
    "    - sum(df.groupby('group').sum()['weight']**2/I_j)\n",
    "SS_Total = SS_Treatment + SS_Error \n",
    "\n",
    "MS_Treatment = SS_Treatment / DF_Treatment\n",
    "MS_Error = SS_Error / DF_Error\n",
    "\n",
    "F = MS_Treatment / MS_Error\n",
    "\n",
    "p_value = 1 - stats.f.cdf(F, DF_Treatment, DF_Error)\n",
    "\n",
    "eta_sqrd = SS_Treatment / SS_Total\n",
    "\n",
    "om_sqrd = (SS_Treatment - (DF_Treatment * MS_Error)) / (SS_Total + MS_Error)\n",
    "\n",
    "print(p_value)"
   ]
  },
  {
   "cell_type": "markdown",
   "metadata": {},
   "source": [
    "$$\\begin{array}{lll}\n",
    "\\mu_1=\\mu_2 ?&\\Rightarrow&\\mbox{t-test}\\\\\n",
    "\\\\\n",
    "\\mu_1=\\mu_2=\\cdots=\\mu_k ?&\\Rightarrow&\\mbox{one way ANOVA}\n",
    "\\end{array}$$"
   ]
  },
  {
   "cell_type": "code",
   "execution_count": 10,
   "metadata": {},
   "outputs": [
    {
     "name": "stdout",
     "output_type": "stream",
     "text": [
      "<pandas.core.groupby.generic.DataFrameGroupBy object at 0x7ff6c0349080>\n"
     ]
    }
   ],
   "source": [
    "%matplotlib inline\n",
    "import pandas as pd\n",
    "from statsmodels.formula.api import ols\n",
    "from statsmodels.stats.anova import anova_lm\n",
    "\n",
    "df = pd.read_csv(\"data/PlantGrowth.csv\", usecols=[1,2])\n",
    "df = df.groupby('group')\n",
    "print(df)"
   ]
  },
  {
   "cell_type": "code",
   "execution_count": null,
   "metadata": {},
   "outputs": [],
   "source": []
  }
 ],
 "metadata": {
  "kernelspec": {
   "display_name": "Python 3",
   "language": "python",
   "name": "python3"
  },
  "language_info": {
   "codemirror_mode": {
    "name": "ipython",
    "version": 3
   },
   "file_extension": ".py",
   "mimetype": "text/x-python",
   "name": "python",
   "nbconvert_exporter": "python",
   "pygments_lexer": "ipython3",
   "version": "3.6.9"
  }
 },
 "nbformat": 4,
 "nbformat_minor": 2
}
