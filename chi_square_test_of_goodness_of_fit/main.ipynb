{
 "cells": [
  {
   "cell_type": "markdown",
   "metadata": {},
   "source": [
    "[scipy](https://docs.scipy.org/doc/scipy/reference/generated/scipy.stats.chisquare.html)\n",
    "[Scott_Crawford](https://www.youtube.com/watch?v=_67mDWPt26Y)"
   ]
  },
  {
   "cell_type": "markdown",
   "metadata": {},
   "source": [
    "$$\\begin{array}{ccc}\n",
    "   &\\mbox{Goodness of Fit}&\\mbox{independence}&\\mbox{Homogeneity}&\\\\\n",
    "H_0&\\mbox{dist}(X)=\\mbox{benchmark dist}&X,\\ Y\\ \\mbox{independent}&\\mbox{dist}(X|Y=i)=\\mbox{dist}(X|Y=j)\\\\\n",
    "H_a&\\mbox{dist}(X)\\not=\\mbox{benchmark dist}&X,\\ Y\\ \\mbox{not independent}&\\mbox{dist}(X|Y=i)\\not=\\mbox{dist}(X|Y=j)\\\\\n",
    "\\mbox{Data}&x\\sim X&(x,y)\\sim (X,Y)&x_i\\sim X|Y=i, x_j\\sim X|Y=j\\\\\n",
    "\\mbox{scipy}&\\mbox{scipy.stats.chisquare}&\\mbox{scipy.stats.chi2_contingency}&\\mbox{scipy.stats.chi2_contingency}\n",
    "\\end{array}$$"
   ]
  },
  {
   "cell_type": "markdown",
   "metadata": {},
   "source": [
    "$$\\begin{array}{ccc}\n",
    "   &\\mbox{Goodness of Fit}&\\mbox{Homogeneity}&\\\\\n",
    "H_0&\\mbox{dist}(X)=\\mbox{benchmark dist}&\\mbox{dist}(X|Y=i)=\\mbox{dist}(X|Y=j)\\\\\n",
    "H_a&\\mbox{dist}(X)\\not=\\mbox{benchmark dist}&\\mbox{dist}(X|Y=i)\\not=\\mbox{dist}(X|Y=j)\\\\\n",
    "\\mbox{Data}&x\\sim X&x_i\\sim X|Y=i, x_j\\sim X|Y=j\\\\\n",
    "\\mbox{scipy}&\\mbox{scipy.stats.chisquare}&\\mbox{scipy.stats.chi2_contingency}\n",
    "\\end{array}$$"
   ]
  },
  {
   "cell_type": "code",
   "execution_count": 1,
   "metadata": {},
   "outputs": [
    {
     "name": "stdout",
     "output_type": "stream",
     "text": [
      "12.5\n",
      "0.028543123326167485\n"
     ]
    }
   ],
   "source": [
    "import numpy as np\n",
    "import scipy.stats as stats\n",
    "\n",
    "f_obs = np.array([18, 10, 17, 15, 18, 18]) * 4\n",
    "f_exp = np.array([16, 16, 16, 16, 16, 16]) * 4\n",
    "\n",
    "chi2, p_value = stats.chisquare(f_obs, f_exp=f_exp)\n",
    "print(chi2)\n",
    "print(p_value)"
   ]
  },
  {
   "cell_type": "code",
   "execution_count": 8,
   "metadata": {},
   "outputs": [
    {
     "name": "stdout",
     "output_type": "stream",
     "text": [
      "              1      2      3      4     5     6\n",
      "O          72.0   40.0  68.00  60.00  72.0  72.0\n",
      "E          64.0   64.0  64.00  64.00  64.0  64.0\n",
      "O-E         8.0  -24.0   4.00  -4.00   8.0   8.0\n",
      "(O-E)^2    64.0  576.0  16.00  16.00  64.0  64.0\n",
      "(O-E)^2/E   1.0    9.0   0.25   0.25   1.0   1.0\n"
     ]
    }
   ],
   "source": [
    "import pandas as pd\n",
    "\n",
    "data = {'O': f_obs, 'E': f_exp}\n",
    "df = pd.DataFrame(data).transpose()\n",
    "df.columns = [1,2,3,4,5,6]\n",
    "df.loc['O-E',:] = df.loc['O',:] - df.loc['E',:]\n",
    "df.loc['(O-E)^2',:] = (df.loc['O-E',:])**2\n",
    "df.loc['(O-E)^2/E',:] = df.loc['(O-E)^2',:] / df.loc['E',:]\n",
    "print(df)"
   ]
  },
  {
   "cell_type": "markdown",
   "metadata": {},
   "source": [
    "$$\n",
    "\\displaystyle\n",
    "\\chi^2_{d}=\\sum_{i=1}^k\\frac{(O_i-E_i)^2}{E_i}\\quad d=k-1\n",
    "$$"
   ]
  },
  {
   "cell_type": "code",
   "execution_count": 7,
   "metadata": {},
   "outputs": [
    {
     "name": "stdout",
     "output_type": "stream",
     "text": [
      "12.5\n"
     ]
    }
   ],
   "source": [
    "chi2 = np.sum(df.loc['(O-E)^2/E',:])\n",
    "print(chi2)"
   ]
  },
  {
   "cell_type": "markdown",
   "metadata": {},
   "source": [
    "$$\n",
    "\\mbox{DF} = \\#\\ \\mbox{categories} - 1\n",
    "$$"
   ]
  },
  {
   "cell_type": "code",
   "execution_count": 4,
   "metadata": {},
   "outputs": [
    {
     "name": "stdout",
     "output_type": "stream",
     "text": [
      "5\n"
     ]
    }
   ],
   "source": [
    "DF = f_obs.shape[0] - 1\n",
    "print(DF)"
   ]
  },
  {
   "cell_type": "markdown",
   "metadata": {},
   "source": [
    "<div align=\"center\"><img src=\"img/Screen Shot 2019-11-09 at 10.24.03 PM.png\" width=\"30%\" height=\"30%\"></div>"
   ]
  },
  {
   "cell_type": "code",
   "execution_count": 5,
   "metadata": {},
   "outputs": [
    {
     "name": "stdout",
     "output_type": "stream",
     "text": [
      "0.028543123326167485\n"
     ]
    }
   ],
   "source": [
    "p_value = 1 - stats.chi2.cdf(chi2, DF)\n",
    "print(p_value)"
   ]
  },
  {
   "cell_type": "code",
   "execution_count": 96,
   "metadata": {},
   "outputs": [
    {
     "name": "stderr",
     "output_type": "stream",
     "text": [
      "/Users/sungchullee/anaconda3/lib/python3.6/site-packages/ipykernel_launcher.py:28: UserWarning: Setting the 'color' property will override the edgecolor or facecolor properties.\n"
     ]
    },
    {
     "data": {
      "image/png": "[encoded data removed]",
      "text/plain": [
       "<Figure size 432x288 with 1 Axes>"
      ]
     },
     "metadata": {
      "needs_background": "light"
     },
     "output_type": "display_data"
    }
   ],
   "source": [
    "%matplotlib inline\n",
    "import matplotlib.pyplot as plt\n",
    "import scipy.stats as stats\n",
    "\n",
    "fig, ax = plt.subplots()\n",
    "\n",
    "df = 5\n",
    "a = stats.chi2(df)\n",
    "chi2_statistics = 12.5\n",
    "\n",
    "x = np.linspace(0,chi2_statistics) \n",
    "y = a.pdf(x)\n",
    "x = np.concatenate([[0], x, [chi2_statistics], [0]])\n",
    "y = np.concatenate([[0], y, [0], [0]])\n",
    "ax.fill(x, y, color='b', alpha=0.3)\n",
    "ax.plot(x, y, color='b', linewidth=3)\n",
    "\n",
    "x = np.linspace(chi2_statistics, 20, 100)\n",
    "y = a.pdf(x) \n",
    "x = np.concatenate([[chi2_statistics], x, [20], [chi2_statistics]])\n",
    "y = np.concatenate([[0], y, [0], [0]])\n",
    "ax.fill(x, y, color='r', alpha=0.3)\n",
    "ax.plot(x, y, color='r', linewidth=3)\n",
    "\n",
    "xy = ((12.5 + 15.0) / 2, 0.01)\n",
    "xytext = (16.5, 0.10)\n",
    "arrowprops = dict(facecolor='k', color='k', width=0.2, headwidth=8)\n",
    "ax.annotate('p_value', xy, xytext=xytext, fontsize=15, arrowprops=arrowprops)\n",
    "        \n",
    "plt.show()"
   ]
  },
  {
   "cell_type": "code",
   "execution_count": 55,
   "metadata": {},
   "outputs": [
    {
     "data": {
      "image/png": "[encoded data removed]",
      "text/plain": [
       "<Figure size 432x288 with 1 Axes>"
      ]
     },
     "metadata": {
      "needs_background": "light"
     },
     "output_type": "display_data"
    }
   ],
   "source": [
    "%matplotlib inline\n",
    "import matplotlib.pyplot as plt\n",
    "import scipy.stats as stats\n",
    "\n",
    "fig, ax = plt.subplots()\n",
    "\n",
    "df = 5\n",
    "a = stats.chi2(df)\n",
    "chi2_statistics = 12.5\n",
    "\n",
    "x = np.linspace(0,chi2_statistics) \n",
    "y = a.pdf(x)\n",
    "x = np.concatenate([[0], x, [chi2_statistics], [0]])\n",
    "y = np.concatenate([[0], y, [0], [0]])\n",
    "ax.fill(x, y, color='b', alpha=0.3)\n",
    "ax.plot(x, y, color='b', linewidth=3)\n",
    "\n",
    "x = np.linspace(chi2_statistics, 20, 100)\n",
    "y = a.pdf(x) \n",
    "x = np.concatenate([[chi2_statistics], x, [20], [chi2_statistics]])\n",
    "y = np.concatenate([[0], y, [0], [0]])\n",
    "ax.fill(x, y, color='r', alpha=0.3)\n",
    "ax.plot(x, y, color='r', linewidth=3)\n",
    "\n",
    "xy = ((12.5 + 15.0) / 2, 0.01)\n",
    "xytext = (16.5, 0.10)\n",
    "arrowprops = dict(color='r', width=0.2, headwidth=8)\n",
    "ax.annotate('p_value', xy, xytext=xytext, fontsize=15, arrowprops=arrowprops)\n",
    "        \n",
    "plt.show()"
   ]
  },
  {
   "cell_type": "code",
   "execution_count": null,
   "metadata": {},
   "outputs": [],
   "source": []
  }
 ],
 "metadata": {
  "kernelspec": {
   "display_name": "Python 3",
   "language": "python",
   "name": "python3"
  },
  "language_info": {
   "codemirror_mode": {
    "name": "ipython",
    "version": 3
   },
   "file_extension": ".py",
   "mimetype": "text/x-python",
   "name": "python",
   "nbconvert_exporter": "python",
   "pygments_lexer": "ipython3",
   "version": "3.6.9"
  }
 },
 "nbformat": 4,
 "nbformat_minor": 2
}
