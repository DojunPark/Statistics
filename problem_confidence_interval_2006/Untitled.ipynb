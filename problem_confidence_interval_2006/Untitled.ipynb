{
 "cells": [
  {
   "cell_type": "markdown",
   "metadata": {},
   "source": [
    "<div align=\"center\"><img src=\"img/2006.png\" width=\"70%\"></div>"
   ]
  },
  {
   "cell_type": "markdown",
   "metadata": {},
   "source": [
    "With $n=288$ and $p=1/3$, $X\\sim B(n,p)$.\n",
    "$$\n",
    "EX=np=96,\\quad Var(X)=np(1-p)=8^2\n",
    "$$\n",
    "$$$$\n",
    "$$\n",
    "X\\sim B(n,p)\n",
    "\\quad\\Rightarrow\\quad\n",
    "\\frac{X-96}{8}\\approx Z\n",
    "$$\n",
    "$$$$\n",
    "$$\\begin{array}{lll}\n",
    "P\\left(88\\le X\\le 112\\right)\n",
    "&=&\n",
    "P\\left(88-96\\le X-96\\le 112-96\\right)\\\\\n",
    "&=&\n",
    "P\\left(\\frac{88-96}{8}\\le \\frac{X-96}{8}\\le \\frac{112-96}{8}\\right)\\\\\n",
    "&\\approx&\n",
    "P\\left(\\frac{88-96}{8}\\le Z\\le \\frac{112-96}{8}\\right)\\\\\n",
    "&=&\n",
    "P\\left(-1\\le Z\\le 2\\right)\\\\\n",
    "&=&\n",
    "P\\left(0\\le Z\\le 1\\right)+P\\left(0\\le Z\\le 2\\right)\\\\\n",
    "&=&\n",
    "0.3413+0.4772\\\\\n",
    "\\end{array}$$"
   ]
  },
  {
   "cell_type": "code",
   "execution_count": null,
   "metadata": {},
   "outputs": [],
   "source": []
  }
 ],
 "metadata": {
  "kernelspec": {
   "display_name": "Python 3",
   "language": "python",
   "name": "python3"
  },
  "language_info": {
   "codemirror_mode": {
    "name": "ipython",
    "version": 3
   },
   "file_extension": ".py",
   "mimetype": "text/x-python",
   "name": "python",
   "nbconvert_exporter": "python",
   "pygments_lexer": "ipython3",
   "version": "3.6.9"
  }
 },
 "nbformat": 4,
 "nbformat_minor": 2
}
