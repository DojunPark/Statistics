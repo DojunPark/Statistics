{
 "cells": [
  {
   "cell_type": "markdown",
   "metadata": {},
   "source": [
    "[Numberbender](https://www.youtube.com/watch?v=hoibLM5CngE)\n",
    "[Understandable_Statistics](https://www.youtube.com/watch?v=RvGb5L_A16w&list=PL4BztsgicSEeC4Oic6s5vW4LE-0YZTuo-&index=18&t=0s)\n",
    "[scipy](https://docs.scipy.org/doc/scipy/reference/generated/scipy.stats.chi2_contingency.html)"
   ]
  },
  {
   "cell_type": "markdown",
   "metadata": {},
   "source": [
    "$$\\begin{array}{cccc}\n",
    "   &\\mbox{Goodness of Fit}&\\mbox{Homogeneity}&\\mbox{Independence}&\\\\\n",
    "H_0&\\mbox{dist}(X)=\\mbox{benchmark dist}&\\mbox{dist}(X|Y=i)=\\mbox{dist}(X|Y=j)&X,\\ Y\\ \\mbox{independent}\\\\\n",
    "H_a&\\mbox{dist}(X)\\not=\\mbox{benchmark dist}&\\mbox{dist}(X|Y=i)\\not=\\mbox{dist}(X|Y=j)&X,\\ Y\\ \\mbox{not independent}\\\\\n",
    "\\mbox{Data}&x\\sim X&x_i\\sim X|Y=i, x_j\\sim X|Y=j&(x,y)\\sim (X,Y)\\\\\n",
    "\\mbox{scipy}&\\mbox{scipy.stats.chisquare}&\\mbox{scipy.stats.chi2_contingency}&\\mbox{scipy.stats.chi2_contingency}\n",
    "\\end{array}$$"
   ]
  },
  {
   "cell_type": "markdown",
   "metadata": {},
   "source": [
    "<div align=\"center\"><img src=\"img/Screen Shot 2019-08-17 at 9.54.53 AM.png\" width=\"100%\" height=\"30%\"></div>\n",
    "\n",
    "[Numberbender](https://www.youtube.com/watch?v=hoibLM5CngE)\n",
    "\n",
    "<div align=\"center\"><img src=\"img/Screen Shot 2019-08-17 at 9.55.15 AM.png\" width=\"100%\" height=\"30%\"></div>\n",
    "\n",
    "[Numberbender](https://www.youtube.com/watch?v=hoibLM5CngE)\n",
    "\n",
    "<div align=\"center\"><img src=\"img/Screen Shot 2019-08-17 at 9.56.26 AM.png\" width=\"100%\" height=\"30%\"></div>\n",
    "\n",
    "[Numberbender](https://www.youtube.com/watch?v=hoibLM5CngE)\n",
    "\n",
    "<div align=\"center\"><img src=\"img/Screen Shot 2019-08-17 at 9.56.48 AM.png\" width=\"100%\" height=\"30%\"></div>\n",
    "\n",
    "[Numberbender](https://www.youtube.com/watch?v=hoibLM5CngE)\n",
    "\n",
    "<div align=\"center\"><img src=\"img/Screen Shot 2019-08-17 at 9.57.01 AM.png\" width=\"100%\" height=\"30%\"></div>\n",
    "\n",
    "[Numberbender](https://www.youtube.com/watch?v=hoibLM5CngE)\n",
    "\n",
    "<div align=\"center\"><img src=\"img/Screen Shot 2019-08-17 at 9.57.28 AM.png\" width=\"100%\" height=\"30%\"></div>\n",
    "\n",
    "[Numberbender](https://www.youtube.com/watch?v=hoibLM5CngE)"
   ]
  },
  {
   "cell_type": "code",
   "execution_count": 2,
   "metadata": {},
   "outputs": [
    {
     "name": "stdout",
     "output_type": "stream",
     "text": [
      "Quality  Much_better  Better  Same  Worse  Much_worse\n",
      "Canada            75      71    96     50          19\n",
      "US               541     498   779    282          65\n",
      "\n",
      "11.725484722395281\n",
      "0.019513763570996236\n",
      "4\n",
      "[[ 77.37318255  71.46970921 109.90508885  41.70113086  10.55088853]\n",
      " [538.62681745 497.53029079 765.09491115 290.29886914  73.44911147]]\n"
     ]
    }
   ],
   "source": [
    "import pandas as pd\n",
    "import numpy as np\n",
    "import scipy.stats as stats\n",
    "\n",
    "data = {\n",
    "    'Quality': ['Much_better', 'Better', 'Same', 'Worse', 'Much_worse'],\n",
    "    'Canada': [75,71,96,50,19],\n",
    "    'US': [541,498,779,282,65]\n",
    "    }\n",
    "df = pd.DataFrame(data).set_index('Quality').transpose()\n",
    "print(df)\n",
    "print()\n",
    "\n",
    "chi2, p_value, DF, expected = stats.chi2_contingency(df)\n",
    "print(chi2)\n",
    "print(p_value)\n",
    "print(DF)\n",
    "print(expected)"
   ]
  },
  {
   "cell_type": "markdown",
   "metadata": {},
   "source": [
    "<div align=\"center\"><img src=\"img/Screen Shot 2019-08-16 at 12.39.25 PM.png\" width=\"100%\" height=\"30%\"></div>\n",
    "\n",
    "[Understandable_Statistics](https://www.youtube.com/watch?v=RvGb5L_A16w&list=PL4BztsgicSEeC4Oic6s5vW4LE-0YZTuo-&index=18&t=0s)"
   ]
  },
  {
   "cell_type": "code",
   "execution_count": 4,
   "metadata": {},
   "outputs": [
    {
     "name": "stdout",
     "output_type": "stream",
     "text": [
      "Quality       Much_better  Better   Same  Worse  Much_worse  Row_Total\n",
      "Canada               75.0    71.0   96.0   50.0        19.0      311.0\n",
      "US                  541.0   498.0  779.0  282.0        65.0     2165.0\n",
      "Column_Total        616.0   569.0  875.0  332.0        84.0     2476.0\n"
     ]
    }
   ],
   "source": [
    "contingency_table = df.copy()\n",
    "contingency_table.loc['Column_Total',:] = contingency_table.sum()\n",
    "contingency_table.loc[:,'Row_Total'] = contingency_table.sum(axis=1)\n",
    "print(contingency_table)"
   ]
  },
  {
   "cell_type": "markdown",
   "metadata": {},
   "source": [
    "$$\n",
    "P(X=i,Y=j)=P(X=i|Y=j)P(Y=j)=P(X=i)P(Y=j)=\\frac{\\mbox{Row_Total[i]}}{\\mbox{Sample_Size}}\\frac{\\mbox{Column_Total[j]}}{\\mbox{Sample_Size}}\n",
    "$$\n",
    "$$$$\n",
    "$$\n",
    "\\mbox{Expected}(X=i,Y=j)=\\frac{\\mbox{Row_Total[i]}*\\mbox{Column_Total[j]}}{\\mbox{Sample_Size}}\n",
    "$$\n",
    "$$$$\n",
    "\n",
    "<div align=\"center\"><img src=\"img/Screen Shot 2019-08-16 at 12.39.44 PM.png\" width=\"60%\" height=\"30%\"></div>\n",
    "\n",
    "[Understandable_Statistics](https://www.youtube.com/watch?v=RvGb5L_A16w&list=PL4BztsgicSEeC4Oic6s5vW4LE-0YZTuo-&index=18&t=0s)\n",
    "\n",
    "<div align=\"center\"><img src=\"img/Screen Shot 2019-08-16 at 12.40.06 PM.png\" width=\"100%\" height=\"30%\"></div>\n",
    "\n",
    "[Understandable_Statistics](https://www.youtube.com/watch?v=RvGb5L_A16w&list=PL4BztsgicSEeC4Oic6s5vW4LE-0YZTuo-&index=18&t=0s)"
   ]
  },
  {
   "cell_type": "code",
   "execution_count": 8,
   "metadata": {},
   "outputs": [
    {
     "name": "stdout",
     "output_type": "stream",
     "text": [
      "Quality  Much_better      Better        Same       Worse  Much_worse\n",
      "Canada     77.373183   71.469709  109.905089   41.701131   10.550889\n",
      "US        538.626817  497.530291  765.094911  290.298869   73.449111\n"
     ]
    }
   ],
   "source": [
    "df_expected = df.copy()\n",
    "for i in df_expected.index:\n",
    "    for j in df_expected.columns:\n",
    "        row_total = contingency_table.loc[i,'Row_Total'] \n",
    "        column_total = contingency_table.loc['Column_Total',j] \n",
    "        sample_size = contingency_table.loc['Column_Total','Row_Total'] \n",
    "        df_expected.loc[i,j] = row_total*column_total/sample_size\n",
    "print(df_expected)"
   ]
  },
  {
   "cell_type": "markdown",
   "metadata": {},
   "source": [
    "<div align=\"center\"><img src=\"img/Screen Shot 2019-08-16 at 12.40.32 PM.png\" width=\"60%\" height=\"30%\"></div>\n",
    "\n",
    "[Understandable_Statistics](https://www.youtube.com/watch?v=RvGb5L_A16w&list=PL4BztsgicSEeC4Oic6s5vW4LE-0YZTuo-&index=18&t=0s)"
   ]
  },
  {
   "cell_type": "code",
   "execution_count": 9,
   "metadata": {},
   "outputs": [
    {
     "name": "stdout",
     "output_type": "stream",
     "text": [
      "11.725484722395281\n"
     ]
    }
   ],
   "source": [
    "chi2 = np.sum(np.sum((df - df_expected)**2 / df_expected))\n",
    "print(chi2)"
   ]
  },
  {
   "cell_type": "markdown",
   "metadata": {},
   "source": [
    "<div align=\"center\"><img src=\"img/Screen Shot 2019-08-16 at 12.40.45 PM.png\" width=\"60%\" height=\"30%\"></div>\n",
    "\n",
    "[Understandable_Statistics](https://www.youtube.com/watch?v=RvGb5L_A16w&list=PL4BztsgicSEeC4Oic6s5vW4LE-0YZTuo-&index=18&t=0s)"
   ]
  },
  {
   "cell_type": "code",
   "execution_count": 10,
   "metadata": {},
   "outputs": [
    {
     "name": "stdout",
     "output_type": "stream",
     "text": [
      "4\n"
     ]
    }
   ],
   "source": [
    "DF = (df.shape[0]-1) * (df.shape[1]-1)\n",
    "print(DF)"
   ]
  },
  {
   "cell_type": "markdown",
   "metadata": {},
   "source": [
    "<div align=\"center\"><img src=\"img/Screen Shot 2019-08-16 at 12.41.07 PM.png\" width=\"30%\" height=\"30%\"></div>\n",
    "\n",
    "[Understandable_Statistics](https://www.youtube.com/watch?v=RvGb5L_A16w&list=PL4BztsgicSEeC4Oic6s5vW4LE-0YZTuo-&index=18&t=0s)"
   ]
  },
  {
   "cell_type": "code",
   "execution_count": 11,
   "metadata": {},
   "outputs": [
    {
     "name": "stdout",
     "output_type": "stream",
     "text": [
      "0.019513763570996212\n"
     ]
    }
   ],
   "source": [
    "import scipy.stats as stats\n",
    "\n",
    "p_value = 1 - stats.chi2.cdf(chi2, DF)\n",
    "print(p_value)"
   ]
  },
  {
   "cell_type": "markdown",
   "metadata": {},
   "source": [
    "$$\n",
    "\\chi^2_d=\\sum_{i=1}^{r}\\sum_{j=1}^c\\frac{(O_{ij}-E_{ij})^2}{E_{ij}}\\quad d=(r-1)(c-1)\n",
    "$$"
   ]
  },
  {
   "cell_type": "markdown",
   "metadata": {},
   "source": [
    "$$\\begin{array}{ll}\n",
    "(1)&\\mbox{SRS}\\\\\n",
    "(2)&\\mbox{Independence}:\\ \\#\\ \\mbox{Sample} \\le 10\\%\\ *\\ \\#\\  \\mbox{Population}\\\\\n",
    "(3)&\\mbox{Normality}:\\ \\mbox{All Expected Count}\\ge 5\\\\\n",
    "\\end{array}$$"
   ]
  },
  {
   "cell_type": "markdown",
   "metadata": {},
   "source": [
    "$$\\begin{array}{ll}\n",
    "(1)&\\mbox{SRS}\\\\\n",
    "(2)&\\mbox{Independence}:\\ \\#\\ \\mbox{Sample}_i \\le 10\\%\\ *\\ \\#\\  \\mbox{Population}_i\\quad\\mbox{for each $i$}\\\\\n",
    "(3)&\\mbox{Normality}:\\ \\mbox{All Expected Count}\\ge 5\\\\\n",
    "\\end{array}$$"
   ]
  },
  {
   "cell_type": "code",
   "execution_count": null,
   "metadata": {},
   "outputs": [],
   "source": []
  }
 ],
 "metadata": {
  "kernelspec": {
   "display_name": "Python 3",
   "language": "python",
   "name": "python3"
  },
  "language_info": {
   "codemirror_mode": {
    "name": "ipython",
    "version": 3
   },
   "file_extension": ".py",
   "mimetype": "text/x-python",
   "name": "python",
   "nbconvert_exporter": "python",
   "pygments_lexer": "ipython3",
   "version": "3.6.9"
  }
 },
 "nbformat": 4,
 "nbformat_minor": 2
}
