{
 "cells": [
  {
   "cell_type": "markdown",
   "metadata": {},
   "source": [
    "<div align=\"center\"><img src=\"img/2004-1A.png\" width=\"70%\"></div>\n",
    "<div align=\"center\"><img src=\"img/2004-1B.png\" width=\"70%\"></div>"
   ]
  },
  {
   "cell_type": "markdown",
   "metadata": {},
   "source": [
    "$$\n",
    "\\bar{X}\\pm z_*\\sqrt{\\sigma^2_{\\bar{X}}}\n",
    "\\quad\\mbox{or}\\quad\n",
    "\\bar{X}\\pm t_*\\sqrt{\\frac{s_X^2}{n}}\n",
    "$$\n",
    "$$$$\n",
    "$$\n",
    "\\bar{X}=48\n",
    "$$\n",
    "$$$$\n",
    "$$\n",
    "z_*=1.96\n",
    "$$\n",
    "$$$$\n",
    "$$\n",
    "\\sigma^2_{\\bar{X}}=\\frac{\\sigma^2}{n}\\approx \\frac{s^2}{n}=\\frac{5.6^2}{64}\n",
    "$$"
   ]
  },
  {
   "cell_type": "markdown",
   "metadata": {},
   "source": [
    "<div align=\"center\"><img src=\"img/2004-1C.png\" width=\"70%\"></div>"
   ]
  },
  {
   "cell_type": "markdown",
   "metadata": {},
   "source": [
    "$$\n",
    "\\bar{Y}\\pm z_*\\sqrt{\\frac{\\sigma_{Y_i}^2}{n}}\n",
    "\\quad\\mbox{or}\\quad\n",
    "\\bar{Y}\\pm t_*\\sqrt{\\frac{s_Y^2}{n}}\n",
    "$$\n",
    "$$$$\n",
    "$$\n",
    "\\bar{Y}=42\n",
    "$$\n",
    "$$$$\n",
    "$$\n",
    "t_*=t_*(n-1)=2.306\n",
    "$$\n",
    "$$$$\n",
    "$$\n",
    "\\frac{s^2}{n}=\\frac{7.5^2}{9}\n",
    "$$"
   ]
  },
  {
   "cell_type": "code",
   "execution_count": null,
   "metadata": {},
   "outputs": [],
   "source": []
  }
 ],
 "metadata": {
  "kernelspec": {
   "display_name": "Python 3",
   "language": "python",
   "name": "python3"
  },
  "language_info": {
   "codemirror_mode": {
    "name": "ipython",
    "version": 3
   },
   "file_extension": ".py",
   "mimetype": "text/x-python",
   "name": "python",
   "nbconvert_exporter": "python",
   "pygments_lexer": "ipython3",
   "version": "3.6.9"
  }
 },
 "nbformat": 4,
 "nbformat_minor": 2
}
