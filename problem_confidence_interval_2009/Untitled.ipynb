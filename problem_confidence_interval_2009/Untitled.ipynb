{
 "cells": [
  {
   "cell_type": "markdown",
   "metadata": {},
   "source": [
    "<div align=\"center\"><img src=\"img/2009-1.png\" width=\"70%\"></div>"
   ]
  },
  {
   "cell_type": "markdown",
   "metadata": {},
   "source": [
    "Let $X_i$ be the $i$-th roll outcome.\n",
    "$$$$\n",
    "$$\n",
    "EX_i=1*\\frac{1}{4}+2*\\frac{1}{4}+3*\\frac{1}{4}+4*\\frac{1}{4}=2.5\n",
    "$$\n",
    "$$$$\n",
    "$$\n",
    "EX_i^2=1^2*\\frac{1}{4}+2^2*\\frac{1}{4}+3^2*\\frac{1}{4}+4^2*\\frac{1}{4}=7.5\n",
    "$$\n",
    "$$$$\n",
    "$$\n",
    "Var(X_i)=EX_i^2-\\left(EX_i\\right)^2=1.25\n",
    "$$\n",
    "$$$$\n",
    "$$\n",
    "S_{80}=\\sum_{i=1}^{80}X_i \n",
    "\\quad\\mbox{Mean:}\\ 80*2.5=200,\n",
    "\\quad\\mbox{Variance:}\\ 80*1.25=10^2\n",
    "$$\n",
    "$$$$\n",
    "$$\\begin{array}{lll}\n",
    "P\\left(S_{80}\\ge 216\\right)\n",
    "&=&\n",
    "P\\left(S_{80}-200\\ge 216-200\\right)\\\\\n",
    "&=&\n",
    "P\\left(\\frac{S_{80}-200}{10}\\ge \\frac{216-200}{10}\\right)\\\\\n",
    "&\\approx&\n",
    "P\\left(Z\\ge 1.6\\right)\\\\\n",
    "&=&\n",
    "1-\\Phi(1.6)\\\\\n",
    "\\end{array}$$"
   ]
  },
  {
   "cell_type": "code",
   "execution_count": null,
   "metadata": {},
   "outputs": [],
   "source": []
  }
 ],
 "metadata": {
  "kernelspec": {
   "display_name": "Python 3",
   "language": "python",
   "name": "python3"
  },
  "language_info": {
   "codemirror_mode": {
    "name": "ipython",
    "version": 3
   },
   "file_extension": ".py",
   "mimetype": "text/x-python",
   "name": "python",
   "nbconvert_exporter": "python",
   "pygments_lexer": "ipython3",
   "version": "3.6.9"
  }
 },
 "nbformat": 4,
 "nbformat_minor": 2
}
