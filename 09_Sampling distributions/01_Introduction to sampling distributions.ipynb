{
 "cells": [
  {
   "cell_type": "markdown",
   "metadata": {},
   "source": [
    "[khanacademy](https://www.khanacademy.org/math/ap-statistics/sampling-distribution-ap/what-is-sampling-distribution/v/introduction-to-sampling-distributions?modal=1)"
   ]
  },
  {
   "cell_type": "markdown",
   "metadata": {},
   "source": [
    "<div align=\"center\"><img src=\"img/Screen Shot 2019-08-11 at 10.38.50 AM.png\" width=\"100%\" height=\"30%\"></div>"
   ]
  },
  {
   "cell_type": "code",
   "execution_count": 29,
   "metadata": {},
   "outputs": [],
   "source": [
    "%matplotlib inline"
   ]
  },
  {
   "cell_type": "code",
   "execution_count": 30,
   "metadata": {},
   "outputs": [
    {
     "name": "stdout",
     "output_type": "stream",
     "text": [
      "3.142857142857143\n"
     ]
    },
    {
     "data": {
      "image/png": "[encoded data removed]",
      "text/plain": [
       "<Figure size 432x288 with 1 Axes>"
      ]
     },
     "metadata": {
      "needs_background": "light"
     },
     "output_type": "display_data"
    }
   ],
   "source": [
    "import numpy as np\n",
    "import matplotlib.pyplot as plt\n",
    "\n",
    "population = np.array([1,1,1,1,2,2,3,4,4,5,5,5,5,5])\n",
    "mu = population.mean()\n",
    "#mu = np.sum(population) / population.shape[0]\n",
    "print(mu)\n",
    "\n",
    "plt.hist(population, bins=np.arange(0,7))\n",
    "plt.show()"
   ]
  },
  {
   "cell_type": "code",
   "execution_count": 32,
   "metadata": {},
   "outputs": [
    {
     "name": "stdout",
     "output_type": "stream",
     "text": [
      "[5, 4, 2]\n",
      "[2, 5, 4]\n",
      "[5, 2, 4]\n",
      "[3, 1, 5]\n",
      "[1, 5, 1]\n",
      "[1, 2, 4]\n",
      "[1, 5, 4]\n",
      "[5, 4, 2]\n",
      "[1, 5, 5]\n",
      "[5, 5, 3]\n"
     ]
    }
   ],
   "source": [
    "import random\n",
    "\n",
    "# https://docs.python.org/3/library/random.html\n",
    "\n",
    "# random.choices(population, weights=None, *, cum_weights=None, k=1)\n",
    "# Return a k sized list of elements chosen from the population with replacement.\n",
    "\n",
    "# random.sample(population, k)\n",
    "# Return a k length list of unique elements chosen from the population sequence or set. \n",
    "# Used for random sampling without replacement.\n",
    "\n",
    "population = list(population)\n",
    "\n",
    "k = 3\n",
    "for _ in range(10):\n",
    "    print(random.sample(population, k=k))"
   ]
  },
  {
   "cell_type": "code",
   "execution_count": 36,
   "metadata": {},
   "outputs": [
    {
     "data": {
      "image/png": "[encoded data removed]",
      "text/plain": [
       "<Figure size 432x288 with 1 Axes>"
      ]
     },
     "metadata": {
      "needs_background": "light"
     },
     "output_type": "display_data"
    }
   ],
   "source": [
    "population = list(population)\n",
    "\n",
    "samples_of_x_bar = []\n",
    "\n",
    "k = 10\n",
    "for _ in range(100):\n",
    "    x_bar = np.array(random.sample(population, k=k)).mean()\n",
    "    samples_of_x_bar.append(x_bar)\n",
    "    \n",
    "plt.hist(samples_of_x_bar)\n",
    "plt.show()"
   ]
  },
  {
   "cell_type": "code",
   "execution_count": null,
   "metadata": {},
   "outputs": [],
   "source": []
  }
 ],
 "metadata": {
  "kernelspec": {
   "display_name": "Python 3",
   "language": "python",
   "name": "python3"
  },
  "language_info": {
   "codemirror_mode": {
    "name": "ipython",
    "version": 3
   },
   "file_extension": ".py",
   "mimetype": "text/x-python",
   "name": "python",
   "nbconvert_exporter": "python",
   "pygments_lexer": "ipython3",
   "version": "3.7.3"
  }
 },
 "nbformat": 4,
 "nbformat_minor": 2
}
